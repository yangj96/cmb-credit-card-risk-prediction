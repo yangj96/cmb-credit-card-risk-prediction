{
 "cells": [
  {
   "cell_type": "code",
   "execution_count": 1,
   "metadata": {},
   "outputs": [],
   "source": [
    "import numpy as np\n",
    "import pandas as pd\n",
    "import xgboost as xgb\n",
    "from sklearn.model_selection import StratifiedKFold\n",
    "from sklearn import metrics\n",
    "from sklearn.preprocessing import LabelEncoder\n",
    " \n",
    "pd.set_option('precision', 5)\n",
    "pd.set_option('display.float_format', lambda x: '%.5f' % x) \n",
    "pd.options.display.max_rows = 200"
   ]
  },
  {
   "cell_type": "code",
   "execution_count": 2,
   "metadata": {},
   "outputs": [
    {
     "name": "stdout",
     "output_type": "stream",
     "text": [
      "(39923, 43)\n",
      "(4000, 42)\n"
     ]
    }
   ],
   "source": [
    "train_df = pd.read_csv('data/train/train_tag.csv')\n",
    "test_df = pd.read_csv('data/test/test_tag_b.csv')\n",
    "print(train_df.shape)\n",
    "print(test_df.shape)"
   ]
  },
  {
   "cell_type": "code",
   "execution_count": 3,
   "metadata": {},
   "outputs": [],
   "source": [
    "# beh_pageno_cnt = pd.read_csv('data/beh_pageno_target_encoding.csv')\n",
    "# print(beh_pageno_cnt.shape)\n",
    "# merge_train_data = pd.merge(train_df, beh_pageno_cnt, on='id', how='left')\n",
    "# print(merge_train_data.shape)\n",
    "# merge_test_data = pd.merge(test_df, beh_pageno_cnt, on='id', how='left')\n",
    "# print(merge_test_data.shape)"
   ]
  },
  {
   "cell_type": "code",
   "execution_count": 4,
   "metadata": {},
   "outputs": [
    {
     "name": "stdout",
     "output_type": "stream",
     "text": [
      "(35183, 6)\n"
     ]
    }
   ],
   "source": [
    "trd_cnt = pd.read_csv('data/trd_cnt.csv')\n",
    "print(trd_cnt.shape)"
   ]
  },
  {
   "cell_type": "code",
   "execution_count": 5,
   "metadata": {},
   "outputs": [
    {
     "name": "stdout",
     "output_type": "stream",
     "text": [
      "(39923, 48)\n",
      "(4000, 47)\n"
     ]
    }
   ],
   "source": [
    "# merge_train_data = pd.merge(merge_train_data, trd_cnt, on='id', how='left')\n",
    "# print(merge_train_data.shape)\n",
    "# merge_test_data = pd.merge(merge_test_data, trd_cnt, on='id', how='left')\n",
    "# print(merge_test_data.shape)\n",
    "merge_train_data = pd.merge(train_df, trd_cnt, on='id', how='left')\n",
    "print(merge_train_data.shape)\n",
    "merge_test_data = pd.merge(test_df, trd_cnt, on='id', how='left')\n",
    "print(merge_test_data.shape)"
   ]
  },
  {
   "cell_type": "code",
   "execution_count": 6,
   "metadata": {},
   "outputs": [
    {
     "name": "stdout",
     "output_type": "stream",
     "text": [
      "(35183, 7)\n"
     ]
    }
   ],
   "source": [
    "trd_amt = pd.read_csv('data/trd_amount.csv')\n",
    "print(trd_amt.shape)"
   ]
  },
  {
   "cell_type": "code",
   "execution_count": 7,
   "metadata": {},
   "outputs": [
    {
     "name": "stdout",
     "output_type": "stream",
     "text": [
      "(39923, 54)\n",
      "(4000, 53)\n"
     ]
    }
   ],
   "source": [
    "merge_train_data = pd.merge(merge_train_data, trd_amt, on='id', how='left')\n",
    "print(merge_train_data.shape)\n",
    "merge_test_data = pd.merge(merge_test_data, trd_amt, on='id', how='left')\n",
    "print(merge_test_data.shape)"
   ]
  },
  {
   "cell_type": "code",
   "execution_count": 8,
   "metadata": {},
   "outputs": [
    {
     "name": "stdout",
     "output_type": "stream",
     "text": [
      "(35183, 8)\n",
      "(39923, 61)\n",
      "(4000, 60)\n"
     ]
    }
   ],
   "source": [
    "trd_cod1_cnt = pd.read_csv('data/trd_cod1_cnt.csv')\n",
    "print(trd_cod1_cnt.shape)\n",
    "merge_train_data = pd.merge(merge_train_data, trd_cod1_cnt, on='id', how='left')\n",
    "print(merge_train_data.shape)\n",
    "merge_test_data = pd.merge(merge_test_data, trd_cod1_cnt, on='id', how='left')\n",
    "print(merge_test_data.shape)"
   ]
  },
  {
   "cell_type": "code",
   "execution_count": 9,
   "metadata": {},
   "outputs": [
    {
     "name": "stdout",
     "output_type": "stream",
     "text": [
      "(35183, 8)\n",
      "(39923, 68)\n",
      "(4000, 67)\n"
     ]
    }
   ],
   "source": [
    "trd_flg3_cnt = pd.read_csv('data/trd_flg3_cnt.csv')\n",
    "print(trd_flg3_cnt.shape)\n",
    "merge_train_data = pd.merge(merge_train_data, trd_flg3_cnt, on='id', how='left')\n",
    "print(merge_train_data.shape)\n",
    "merge_test_data = pd.merge(merge_test_data, trd_flg3_cnt, on='id', how='left')\n",
    "print(merge_test_data.shape)"
   ]
  },
  {
   "cell_type": "code",
   "execution_count": 10,
   "metadata": {},
   "outputs": [
    {
     "name": "stdout",
     "output_type": "stream",
     "text": [
      "(11913, 2)\n",
      "(1232, 2)\n",
      "(39923, 69)\n",
      "(4000, 68)\n"
     ]
    }
   ],
   "source": [
    "beh_feature_train_pred = pd.read_csv('data/beh_feature_train_pred.csv')\n",
    "beh_feature_test_pred = pd.read_csv('data/beh_feature_test_pred.csv')\n",
    "print(beh_feature_train_pred.shape)\n",
    "print(beh_feature_test_pred.shape)\n",
    "merge_train_data = pd.merge(merge_train_data, beh_feature_train_pred, on='id', how='left')\n",
    "print(merge_train_data.shape)\n",
    "merge_test_data = pd.merge(merge_test_data, beh_feature_test_pred, on='id', how='left')\n",
    "print(merge_test_data.shape)"
   ]
  },
  {
   "cell_type": "code",
   "execution_count": 11,
   "metadata": {},
   "outputs": [
    {
     "name": "stdout",
     "output_type": "stream",
     "text": [
      "(39923, 70)\n",
      "(4000, 69)\n"
     ]
    }
   ],
   "source": [
    "beh_feature_train_pred_mean = pd.read_csv('data/beh_feature_train_pred_mean.csv')\n",
    "beh_feature_test_pred_mean = pd.read_csv('data/beh_feature_test_pred_mean.csv')\n",
    "merge_train_data = pd.merge(merge_train_data, beh_feature_train_pred_mean, on='id', how='left')\n",
    "print(merge_train_data.shape)\n",
    "merge_test_data = pd.merge(merge_test_data, beh_feature_test_pred_mean, on='id', how='left')\n",
    "print(merge_test_data.shape)"
   ]
  },
  {
   "cell_type": "code",
   "execution_count": 12,
   "metadata": {},
   "outputs": [
    {
     "name": "stdout",
     "output_type": "stream",
     "text": [
      "(39923, 71)\n",
      "(4000, 70)\n"
     ]
    }
   ],
   "source": [
    "beh_feature_train_pred_sum = pd.read_csv('data/beh_feature_train_pred_sum.csv')\n",
    "beh_feature_test_pred_sum = pd.read_csv('data/beh_feature_test_pred_sum.csv')\n",
    "merge_train_data = pd.merge(merge_train_data, beh_feature_train_pred_sum, on='id', how='left')\n",
    "print(merge_train_data.shape)\n",
    "merge_test_data = pd.merge(merge_test_data, beh_feature_test_pred_sum, on='id', how='left')\n",
    "print(merge_test_data.shape)"
   ]
  },
  {
   "cell_type": "code",
   "execution_count": 13,
   "metadata": {},
   "outputs": [
    {
     "name": "stdout",
     "output_type": "stream",
     "text": [
      "(39923, 72)\n",
      "(4000, 71)\n"
     ]
    }
   ],
   "source": [
    "trd_feature_train_pred = pd.read_csv('data/trd_feature_train_pred.csv')\n",
    "trd_feature_test_pred = pd.read_csv('data/trd_feature_test_pred.csv')\n",
    "merge_train_data = pd.merge(merge_train_data, trd_feature_train_pred, on='id', how='left')\n",
    "print(merge_train_data.shape)\n",
    "merge_test_data = pd.merge(merge_test_data, trd_feature_test_pred, on='id', how='left')\n",
    "print(merge_test_data.shape)"
   ]
  },
  {
   "cell_type": "code",
   "execution_count": 14,
   "metadata": {},
   "outputs": [
    {
     "name": "stdout",
     "output_type": "stream",
     "text": [
      "(39923, 73)\n",
      "(4000, 72)\n"
     ]
    }
   ],
   "source": [
    "trd_feature_train_pred_mean = pd.read_csv('data/trd_feature_train_pred_mean.csv')\n",
    "trd_feature_test_pred_mean = pd.read_csv('data/trd_feature_test_pred_mean.csv')\n",
    "merge_train_data = pd.merge(merge_train_data, trd_feature_train_pred_mean, on='id', how='left')\n",
    "print(merge_train_data.shape)\n",
    "merge_test_data = pd.merge(merge_test_data, trd_feature_test_pred_mean, on='id', how='left')\n",
    "print(merge_test_data.shape)"
   ]
  },
  {
   "cell_type": "code",
   "execution_count": 15,
   "metadata": {},
   "outputs": [
    {
     "name": "stdout",
     "output_type": "stream",
     "text": [
      "(39923, 74)\n",
      "(4000, 73)\n"
     ]
    }
   ],
   "source": [
    "trd_feature_train_pred_sum = pd.read_csv('data/trd_feature_train_pred_sum.csv')\n",
    "trd_feature_test_pred_sum = pd.read_csv('data/trd_feature_test_pred_sum.csv')\n",
    "merge_train_data = pd.merge(merge_train_data, trd_feature_train_pred_sum, on='id', how='left')\n",
    "print(merge_train_data.shape)\n",
    "merge_test_data = pd.merge(merge_test_data, trd_feature_test_pred_sum, on='id', how='left')\n",
    "print(merge_test_data.shape)"
   ]
  },
  {
   "cell_type": "code",
   "execution_count": 16,
   "metadata": {},
   "outputs": [
    {
     "data": {
      "text/plain": [
       "id                                     0\n",
       "flag                                   0\n",
       "gdr_cd                                 0\n",
       "age                                    0\n",
       "mrg_situ_cd                            0\n",
       "edu_deg_cd                         12436\n",
       "acdm_deg_cd                            1\n",
       "deg_cd                             20963\n",
       "job_year                               0\n",
       "ic_ind                                 0\n",
       "fr_or_sh_ind                           0\n",
       "dnl_mbl_bnk_ind                        0\n",
       "dnl_bind_cmb_lif_ind                   0\n",
       "hav_car_grp_ind                        0\n",
       "hav_hou_grp_ind                        0\n",
       "l6mon_agn_ind                          0\n",
       "frs_agn_dt_cnt                         0\n",
       "vld_rsk_ases_ind                       0\n",
       "fin_rsk_ases_grd_cd                    0\n",
       "confirm_rsk_ases_lvl_typ_cd            0\n",
       "cust_inv_rsk_endu_lvl_cd               0\n",
       "l6mon_daim_aum_cd                      0\n",
       "tot_ast_lvl_cd                         0\n",
       "pot_ast_lvl_cd                         0\n",
       "bk1_cur_year_mon_avg_agn_amt_cd        0\n",
       "l12mon_buy_fin_mng_whl_tms             0\n",
       "l12_mon_fnd_buy_whl_tms                0\n",
       "l12_mon_insu_buy_whl_tms               0\n",
       "l12_mon_gld_buy_whl_tms                0\n",
       "loan_act_ind                           0\n",
       "pl_crd_lmt_cd                          0\n",
       "ovd_30d_loan_tot_cnt                   0\n",
       "his_lng_ovd_day                        0\n",
       "hld_crd_card_grd_cd                    0\n",
       "crd_card_act_ind                       0\n",
       "l1y_crd_card_csm_amt_dlm_cd            0\n",
       "atdd_type                          23657\n",
       "perm_crd_lmt_cd                        0\n",
       "cur_debit_cnt                          0\n",
       "cur_credit_cnt                         0\n",
       "cur_debit_min_opn_dt_cnt               0\n",
       "cur_credit_min_opn_dt_cnt              0\n",
       "cur_debit_crd_lvl                      0\n",
       "flg1_trd_cnt_B                      7930\n",
       "flg1_trd_cnt_C                      7930\n",
       "trd_cnt                             7930\n",
       "flg1_trd_cnt_B_precent              7930\n",
       "flg1_trd_cnt_C_precent              7930\n",
       "cny_trx_amt_B                      10730\n",
       "cny_trx_amt_C                       9821\n",
       "trx_amt_balance                    12621\n",
       "trx_total_amount                   12621\n",
       "cny_trx_amt_B_percent              12621\n",
       "cny_trx_amt_C_percent              12621\n",
       "trx_cod1_1_cnt                     11342\n",
       "trx_cod1_2_cnt                     21401\n",
       "trx_cod1_3_cnt                     11540\n",
       "trx_cod1_cnt                       24596\n",
       "trx_cod1_cnt_1_percent             24596\n",
       "trx_cod1_cnt_2_percent             24596\n",
       "trx_cod1_cnt_3_percent             24596\n",
       "trx_flg3_A_cnt                      7930\n",
       "trx_flg3_B_cnt                      7930\n",
       "trx_flg3_C_cnt                      7930\n",
       "trd_flg3_cnt                        7930\n",
       "trd_flg3_A_percent                  7930\n",
       "trd_flg3_B_percent                  7930\n",
       "trd_flg3_C_percent                  7930\n",
       "beh_pred                           28010\n",
       "beh_pred_mean                      28010\n",
       "beh_pred_sum                       28010\n",
       "trd_pred                            7930\n",
       "trd_pred_mean                       7930\n",
       "trd_pred_sum                        7930\n",
       "dtype: int64"
      ]
     },
     "execution_count": 16,
     "metadata": {},
     "output_type": "execute_result"
    }
   ],
   "source": [
    "merge_train_data.isnull().sum()"
   ]
  },
  {
   "cell_type": "code",
   "execution_count": 17,
   "metadata": {
    "scrolled": true
   },
   "outputs": [
    {
     "data": {
      "text/plain": [
       "id                                    0\n",
       "gdr_cd                                0\n",
       "age                                   0\n",
       "mrg_situ_cd                           0\n",
       "edu_deg_cd                         1247\n",
       "acdm_deg_cd                           0\n",
       "deg_cd                             2069\n",
       "job_year                              0\n",
       "ic_ind                                0\n",
       "fr_or_sh_ind                          0\n",
       "dnl_mbl_bnk_ind                       0\n",
       "dnl_bind_cmb_lif_ind                  0\n",
       "hav_car_grp_ind                       0\n",
       "hav_hou_grp_ind                       0\n",
       "l6mon_agn_ind                         0\n",
       "frs_agn_dt_cnt                        0\n",
       "vld_rsk_ases_ind                      0\n",
       "fin_rsk_ases_grd_cd                   0\n",
       "confirm_rsk_ases_lvl_typ_cd           0\n",
       "cust_inv_rsk_endu_lvl_cd              0\n",
       "l6mon_daim_aum_cd                     0\n",
       "tot_ast_lvl_cd                        0\n",
       "pot_ast_lvl_cd                        0\n",
       "bk1_cur_year_mon_avg_agn_amt_cd       0\n",
       "l12mon_buy_fin_mng_whl_tms            0\n",
       "l12_mon_fnd_buy_whl_tms               0\n",
       "l12_mon_insu_buy_whl_tms              0\n",
       "l12_mon_gld_buy_whl_tms               0\n",
       "loan_act_ind                          0\n",
       "pl_crd_lmt_cd                         0\n",
       "ovd_30d_loan_tot_cnt                  0\n",
       "his_lng_ovd_day                       0\n",
       "hld_crd_card_grd_cd                   0\n",
       "crd_card_act_ind                      0\n",
       "l1y_crd_card_csm_amt_dlm_cd           0\n",
       "atdd_type                          2356\n",
       "perm_crd_lmt_cd                       0\n",
       "cur_debit_cnt                         0\n",
       "cur_credit_cnt                        0\n",
       "cur_debit_min_opn_dt_cnt              0\n",
       "cur_credit_min_opn_dt_cnt             0\n",
       "cur_debit_crd_lvl                     0\n",
       "flg1_trd_cnt_B                      810\n",
       "flg1_trd_cnt_C                      810\n",
       "trd_cnt                             810\n",
       "flg1_trd_cnt_B_precent              810\n",
       "flg1_trd_cnt_C_precent              810\n",
       "cny_trx_amt_B                      1046\n",
       "cny_trx_amt_C                       972\n",
       "trx_amt_balance                    1208\n",
       "trx_total_amount                   1208\n",
       "cny_trx_amt_B_percent              1208\n",
       "cny_trx_amt_C_percent              1208\n",
       "trx_cod1_1_cnt                     1105\n",
       "trx_cod1_2_cnt                     2137\n",
       "trx_cod1_3_cnt                     1139\n",
       "trx_cod1_cnt                       2428\n",
       "trx_cod1_cnt_1_percent             2428\n",
       "trx_cod1_cnt_2_percent             2428\n",
       "trx_cod1_cnt_3_percent             2428\n",
       "trx_flg3_A_cnt                      810\n",
       "trx_flg3_B_cnt                      810\n",
       "trx_flg3_C_cnt                      810\n",
       "trd_flg3_cnt                        810\n",
       "trd_flg3_A_percent                  810\n",
       "trd_flg3_B_percent                  810\n",
       "trd_flg3_C_percent                  810\n",
       "beh_pred                           2768\n",
       "beh_pred_mean                      2768\n",
       "beh_pred_sum                       2768\n",
       "trd_pred                            810\n",
       "trd_pred_mean                       810\n",
       "trd_pred_sum                        810\n",
       "dtype: int64"
      ]
     },
     "execution_count": 17,
     "metadata": {},
     "output_type": "execute_result"
    }
   ],
   "source": [
    "merge_test_data.isnull().sum()"
   ]
  },
  {
   "cell_type": "code",
   "execution_count": 18,
   "metadata": {},
   "outputs": [],
   "source": [
    "train_df = merge_train_data\n",
    "test_df = merge_test_data"
   ]
  },
  {
   "cell_type": "code",
   "execution_count": 19,
   "metadata": {},
   "outputs": [
    {
     "data": {
      "text/html": [
       "<div>\n",
       "<style scoped>\n",
       "    .dataframe tbody tr th:only-of-type {\n",
       "        vertical-align: middle;\n",
       "    }\n",
       "\n",
       "    .dataframe tbody tr th {\n",
       "        vertical-align: top;\n",
       "    }\n",
       "\n",
       "    .dataframe thead th {\n",
       "        text-align: right;\n",
       "    }\n",
       "</style>\n",
       "<table border=\"1\" class=\"dataframe\">\n",
       "  <thead>\n",
       "    <tr style=\"text-align: right;\">\n",
       "      <th></th>\n",
       "      <th>id</th>\n",
       "      <th>gdr_cd</th>\n",
       "      <th>age</th>\n",
       "      <th>mrg_situ_cd</th>\n",
       "      <th>edu_deg_cd</th>\n",
       "      <th>acdm_deg_cd</th>\n",
       "      <th>deg_cd</th>\n",
       "      <th>job_year</th>\n",
       "      <th>ic_ind</th>\n",
       "      <th>fr_or_sh_ind</th>\n",
       "      <th>...</th>\n",
       "      <th>trd_flg3_cnt</th>\n",
       "      <th>trd_flg3_A_percent</th>\n",
       "      <th>trd_flg3_B_percent</th>\n",
       "      <th>trd_flg3_C_percent</th>\n",
       "      <th>beh_pred</th>\n",
       "      <th>beh_pred_mean</th>\n",
       "      <th>beh_pred_sum</th>\n",
       "      <th>trd_pred</th>\n",
       "      <th>trd_pred_mean</th>\n",
       "      <th>trd_pred_sum</th>\n",
       "    </tr>\n",
       "  </thead>\n",
       "  <tbody>\n",
       "    <tr>\n",
       "      <th>0</th>\n",
       "      <td>U1E63A3</td>\n",
       "      <td>M</td>\n",
       "      <td>40</td>\n",
       "      <td>B</td>\n",
       "      <td>C</td>\n",
       "      <td>31</td>\n",
       "      <td>NaN</td>\n",
       "      <td>1</td>\n",
       "      <td>0</td>\n",
       "      <td>1</td>\n",
       "      <td>...</td>\n",
       "      <td>31.00000</td>\n",
       "      <td>0.00000</td>\n",
       "      <td>1.00000</td>\n",
       "      <td>0.00000</td>\n",
       "      <td>nan</td>\n",
       "      <td>nan</td>\n",
       "      <td>nan</td>\n",
       "      <td>0.39351</td>\n",
       "      <td>0.25660</td>\n",
       "      <td>7.95464</td>\n",
       "    </tr>\n",
       "    <tr>\n",
       "      <th>1</th>\n",
       "      <td>U3EC77F</td>\n",
       "      <td>M</td>\n",
       "      <td>46</td>\n",
       "      <td>A</td>\n",
       "      <td>C</td>\n",
       "      <td>31</td>\n",
       "      <td>NaN</td>\n",
       "      <td>3</td>\n",
       "      <td>0</td>\n",
       "      <td>0</td>\n",
       "      <td>...</td>\n",
       "      <td>nan</td>\n",
       "      <td>nan</td>\n",
       "      <td>nan</td>\n",
       "      <td>nan</td>\n",
       "      <td>nan</td>\n",
       "      <td>nan</td>\n",
       "      <td>nan</td>\n",
       "      <td>nan</td>\n",
       "      <td>nan</td>\n",
       "      <td>nan</td>\n",
       "    </tr>\n",
       "    <tr>\n",
       "      <th>2</th>\n",
       "      <td>U27DC0C</td>\n",
       "      <td>M</td>\n",
       "      <td>42</td>\n",
       "      <td>B</td>\n",
       "      <td>F</td>\n",
       "      <td>G</td>\n",
       "      <td>NaN</td>\n",
       "      <td>3</td>\n",
       "      <td>0</td>\n",
       "      <td>0</td>\n",
       "      <td>...</td>\n",
       "      <td>34.00000</td>\n",
       "      <td>0.38235</td>\n",
       "      <td>0.61765</td>\n",
       "      <td>0.00000</td>\n",
       "      <td>0.23599</td>\n",
       "      <td>0.15978</td>\n",
       "      <td>10.86477</td>\n",
       "      <td>0.37167</td>\n",
       "      <td>0.15335</td>\n",
       "      <td>5.21401</td>\n",
       "    </tr>\n",
       "    <tr>\n",
       "      <th>3</th>\n",
       "      <td>U3FAAAC</td>\n",
       "      <td>F</td>\n",
       "      <td>35</td>\n",
       "      <td>B</td>\n",
       "      <td>B</td>\n",
       "      <td>30</td>\n",
       "      <td>NaN</td>\n",
       "      <td>5</td>\n",
       "      <td>0</td>\n",
       "      <td>1</td>\n",
       "      <td>...</td>\n",
       "      <td>100.00000</td>\n",
       "      <td>1.00000</td>\n",
       "      <td>0.00000</td>\n",
       "      <td>0.00000</td>\n",
       "      <td>0.23575</td>\n",
       "      <td>0.15320</td>\n",
       "      <td>9.95801</td>\n",
       "      <td>0.33339</td>\n",
       "      <td>0.14751</td>\n",
       "      <td>14.75058</td>\n",
       "    </tr>\n",
       "    <tr>\n",
       "      <th>4</th>\n",
       "      <td>U04EA0B</td>\n",
       "      <td>M</td>\n",
       "      <td>34</td>\n",
       "      <td>A</td>\n",
       "      <td>F</td>\n",
       "      <td>G</td>\n",
       "      <td>NaN</td>\n",
       "      <td>9</td>\n",
       "      <td>0</td>\n",
       "      <td>0</td>\n",
       "      <td>...</td>\n",
       "      <td>132.00000</td>\n",
       "      <td>0.89394</td>\n",
       "      <td>0.07576</td>\n",
       "      <td>0.03030</td>\n",
       "      <td>0.19327</td>\n",
       "      <td>0.15237</td>\n",
       "      <td>20.41699</td>\n",
       "      <td>0.45063</td>\n",
       "      <td>0.15319</td>\n",
       "      <td>20.22057</td>\n",
       "    </tr>\n",
       "    <tr>\n",
       "      <th>...</th>\n",
       "      <td>...</td>\n",
       "      <td>...</td>\n",
       "      <td>...</td>\n",
       "      <td>...</td>\n",
       "      <td>...</td>\n",
       "      <td>...</td>\n",
       "      <td>...</td>\n",
       "      <td>...</td>\n",
       "      <td>...</td>\n",
       "      <td>...</td>\n",
       "      <td>...</td>\n",
       "      <td>...</td>\n",
       "      <td>...</td>\n",
       "      <td>...</td>\n",
       "      <td>...</td>\n",
       "      <td>...</td>\n",
       "      <td>...</td>\n",
       "      <td>...</td>\n",
       "      <td>...</td>\n",
       "      <td>...</td>\n",
       "      <td>...</td>\n",
       "    </tr>\n",
       "    <tr>\n",
       "      <th>3995</th>\n",
       "      <td>U0FBFE2</td>\n",
       "      <td>F</td>\n",
       "      <td>58</td>\n",
       "      <td>B</td>\n",
       "      <td>B</td>\n",
       "      <td>30</td>\n",
       "      <td>A</td>\n",
       "      <td>29</td>\n",
       "      <td>0</td>\n",
       "      <td>0</td>\n",
       "      <td>...</td>\n",
       "      <td>6.00000</td>\n",
       "      <td>1.00000</td>\n",
       "      <td>0.00000</td>\n",
       "      <td>0.00000</td>\n",
       "      <td>nan</td>\n",
       "      <td>nan</td>\n",
       "      <td>nan</td>\n",
       "      <td>0.20418</td>\n",
       "      <td>0.13091</td>\n",
       "      <td>0.78546</td>\n",
       "    </tr>\n",
       "    <tr>\n",
       "      <th>3996</th>\n",
       "      <td>U506AD2</td>\n",
       "      <td>M</td>\n",
       "      <td>50</td>\n",
       "      <td>B</td>\n",
       "      <td>C</td>\n",
       "      <td>31</td>\n",
       "      <td>~</td>\n",
       "      <td>25</td>\n",
       "      <td>0</td>\n",
       "      <td>0</td>\n",
       "      <td>...</td>\n",
       "      <td>3.00000</td>\n",
       "      <td>1.00000</td>\n",
       "      <td>0.00000</td>\n",
       "      <td>0.00000</td>\n",
       "      <td>0.16572</td>\n",
       "      <td>0.12955</td>\n",
       "      <td>3.23887</td>\n",
       "      <td>0.12773</td>\n",
       "      <td>0.12422</td>\n",
       "      <td>0.37265</td>\n",
       "    </tr>\n",
       "    <tr>\n",
       "      <th>3997</th>\n",
       "      <td>U287B33</td>\n",
       "      <td>M</td>\n",
       "      <td>39</td>\n",
       "      <td>A</td>\n",
       "      <td>Z</td>\n",
       "      <td>Z</td>\n",
       "      <td>~</td>\n",
       "      <td>0</td>\n",
       "      <td>1</td>\n",
       "      <td>1</td>\n",
       "      <td>...</td>\n",
       "      <td>5.00000</td>\n",
       "      <td>1.00000</td>\n",
       "      <td>0.00000</td>\n",
       "      <td>0.00000</td>\n",
       "      <td>0.16151</td>\n",
       "      <td>0.14973</td>\n",
       "      <td>2.24594</td>\n",
       "      <td>0.21774</td>\n",
       "      <td>0.12836</td>\n",
       "      <td>0.64179</td>\n",
       "    </tr>\n",
       "    <tr>\n",
       "      <th>3998</th>\n",
       "      <td>U15134F</td>\n",
       "      <td>M</td>\n",
       "      <td>34</td>\n",
       "      <td>A</td>\n",
       "      <td>B</td>\n",
       "      <td>30</td>\n",
       "      <td>~</td>\n",
       "      <td>2</td>\n",
       "      <td>0</td>\n",
       "      <td>0</td>\n",
       "      <td>...</td>\n",
       "      <td>10.00000</td>\n",
       "      <td>0.50000</td>\n",
       "      <td>0.50000</td>\n",
       "      <td>0.00000</td>\n",
       "      <td>0.16091</td>\n",
       "      <td>0.13766</td>\n",
       "      <td>2.47794</td>\n",
       "      <td>0.38324</td>\n",
       "      <td>0.17644</td>\n",
       "      <td>1.76435</td>\n",
       "    </tr>\n",
       "    <tr>\n",
       "      <th>3999</th>\n",
       "      <td>U41D5EB</td>\n",
       "      <td>M</td>\n",
       "      <td>63</td>\n",
       "      <td>B</td>\n",
       "      <td>C</td>\n",
       "      <td>31</td>\n",
       "      <td>NaN</td>\n",
       "      <td>0</td>\n",
       "      <td>0</td>\n",
       "      <td>0</td>\n",
       "      <td>...</td>\n",
       "      <td>nan</td>\n",
       "      <td>nan</td>\n",
       "      <td>nan</td>\n",
       "      <td>nan</td>\n",
       "      <td>nan</td>\n",
       "      <td>nan</td>\n",
       "      <td>nan</td>\n",
       "      <td>nan</td>\n",
       "      <td>nan</td>\n",
       "      <td>nan</td>\n",
       "    </tr>\n",
       "  </tbody>\n",
       "</table>\n",
       "<p>4000 rows × 73 columns</p>\n",
       "</div>"
      ],
      "text/plain": [
       "           id gdr_cd  age mrg_situ_cd edu_deg_cd acdm_deg_cd deg_cd job_year  \\\n",
       "0     U1E63A3      M   40           B          C          31    NaN        1   \n",
       "1     U3EC77F      M   46           A          C          31    NaN        3   \n",
       "2     U27DC0C      M   42           B          F           G    NaN        3   \n",
       "3     U3FAAAC      F   35           B          B          30    NaN        5   \n",
       "4     U04EA0B      M   34           A          F           G    NaN        9   \n",
       "...       ...    ...  ...         ...        ...         ...    ...      ...   \n",
       "3995  U0FBFE2      F   58           B          B          30      A       29   \n",
       "3996  U506AD2      M   50           B          C          31      ~       25   \n",
       "3997  U287B33      M   39           A          Z           Z      ~        0   \n",
       "3998  U15134F      M   34           A          B          30      ~        2   \n",
       "3999  U41D5EB      M   63           B          C          31    NaN        0   \n",
       "\n",
       "     ic_ind fr_or_sh_ind  ... trd_flg3_cnt trd_flg3_A_percent  \\\n",
       "0         0            1  ...     31.00000            0.00000   \n",
       "1         0            0  ...          nan                nan   \n",
       "2         0            0  ...     34.00000            0.38235   \n",
       "3         0            1  ...    100.00000            1.00000   \n",
       "4         0            0  ...    132.00000            0.89394   \n",
       "...     ...          ...  ...          ...                ...   \n",
       "3995      0            0  ...      6.00000            1.00000   \n",
       "3996      0            0  ...      3.00000            1.00000   \n",
       "3997      1            1  ...      5.00000            1.00000   \n",
       "3998      0            0  ...     10.00000            0.50000   \n",
       "3999      0            0  ...          nan                nan   \n",
       "\n",
       "     trd_flg3_B_percent trd_flg3_C_percent beh_pred beh_pred_mean  \\\n",
       "0               1.00000            0.00000      nan           nan   \n",
       "1                   nan                nan      nan           nan   \n",
       "2               0.61765            0.00000  0.23599       0.15978   \n",
       "3               0.00000            0.00000  0.23575       0.15320   \n",
       "4               0.07576            0.03030  0.19327       0.15237   \n",
       "...                 ...                ...      ...           ...   \n",
       "3995            0.00000            0.00000      nan           nan   \n",
       "3996            0.00000            0.00000  0.16572       0.12955   \n",
       "3997            0.00000            0.00000  0.16151       0.14973   \n",
       "3998            0.50000            0.00000  0.16091       0.13766   \n",
       "3999                nan                nan      nan           nan   \n",
       "\n",
       "     beh_pred_sum trd_pred trd_pred_mean trd_pred_sum  \n",
       "0             nan  0.39351       0.25660      7.95464  \n",
       "1             nan      nan           nan          nan  \n",
       "2        10.86477  0.37167       0.15335      5.21401  \n",
       "3         9.95801  0.33339       0.14751     14.75058  \n",
       "4        20.41699  0.45063       0.15319     20.22057  \n",
       "...           ...      ...           ...          ...  \n",
       "3995          nan  0.20418       0.13091      0.78546  \n",
       "3996      3.23887  0.12773       0.12422      0.37265  \n",
       "3997      2.24594  0.21774       0.12836      0.64179  \n",
       "3998      2.47794  0.38324       0.17644      1.76435  \n",
       "3999          nan      nan           nan          nan  \n",
       "\n",
       "[4000 rows x 73 columns]"
      ]
     },
     "execution_count": 19,
     "metadata": {},
     "output_type": "execute_result"
    }
   ],
   "source": [
    "test_df"
   ]
  },
  {
   "cell_type": "code",
   "execution_count": 20,
   "metadata": {},
   "outputs": [],
   "source": [
    "def age_cd(age):\n",
    "    age_str = \"\"\n",
    "    if age >= 18 and age < 24 :\n",
    "        age_str = \"18-24\"\n",
    "    elif age >= 24 and age < 30 :\n",
    "        age_str = \"24-30\"\n",
    "    elif age >= 30 and age < 40 :\n",
    "        age_str = \"30-40\"\n",
    "    elif age >= 40 and age < 50 :\n",
    "        age_str = \"40-50\"\n",
    "    elif age >= 50 and age < 60 :\n",
    "        age_str = \"50-60\"\n",
    "    elif age >= 60 :\n",
    "        age_str = \">=60\"\n",
    "    else :\n",
    "        age_str = \"<18\"\n",
    "    return age_str"
   ]
  },
  {
   "cell_type": "code",
   "execution_count": 21,
   "metadata": {},
   "outputs": [],
   "source": [
    "train_df['age']=train_df['age'].apply(lambda x : age_cd(x))\n",
    "test_df['age']=test_df['age'].apply(lambda x : age_cd(x))"
   ]
  },
  {
   "cell_type": "code",
   "execution_count": 22,
   "metadata": {},
   "outputs": [
    {
     "data": {
      "text/plain": [
       "0        40-50M\n",
       "1        30-40M\n",
       "2        50-60M\n",
       "3        40-50F\n",
       "4        40-50F\n",
       "          ...  \n",
       "39918    24-30M\n",
       "39919    40-50M\n",
       "39920    24-30M\n",
       "39921    30-40M\n",
       "39922    30-40M\n",
       "Name: age&gdr, Length: 39923, dtype: object"
      ]
     },
     "execution_count": 22,
     "metadata": {},
     "output_type": "execute_result"
    }
   ],
   "source": [
    "train_df['age&gdr'] = train_df['age'] + train_df['gdr_cd']\n",
    "test_df['age&gdr'] = test_df['age'] + test_df['gdr_cd']\n",
    "train_df['age&gdr']"
   ]
  },
  {
   "cell_type": "code",
   "execution_count": 23,
   "metadata": {},
   "outputs": [],
   "source": [
    "train_target = train_df['flag']\n",
    "test_id = test_df['id']\n",
    "train_df.drop(['flag','id'], axis = 1, inplace=True)\n",
    "test_df.drop(['id'], axis = 1, inplace=True)"
   ]
  },
  {
   "cell_type": "code",
   "execution_count": 24,
   "metadata": {},
   "outputs": [
    {
     "name": "stdout",
     "output_type": "stream",
     "text": [
      "(39923, 73)\n",
      "(4000, 73)\n"
     ]
    }
   ],
   "source": [
    "print(train_df.shape)\n",
    "print(test_df.shape)"
   ]
  },
  {
   "cell_type": "code",
   "execution_count": 25,
   "metadata": {},
   "outputs": [
    {
     "data": {
      "text/plain": [
       "Index(['gdr_cd', 'age', 'mrg_situ_cd', 'edu_deg_cd', 'acdm_deg_cd', 'deg_cd',\n",
       "       'job_year', 'ic_ind', 'fr_or_sh_ind', 'dnl_mbl_bnk_ind',\n",
       "       'dnl_bind_cmb_lif_ind', 'hav_car_grp_ind', 'hav_hou_grp_ind',\n",
       "       'l6mon_agn_ind', 'frs_agn_dt_cnt', 'vld_rsk_ases_ind',\n",
       "       'fin_rsk_ases_grd_cd', 'confirm_rsk_ases_lvl_typ_cd',\n",
       "       'cust_inv_rsk_endu_lvl_cd', 'l6mon_daim_aum_cd', 'tot_ast_lvl_cd',\n",
       "       'pot_ast_lvl_cd', 'bk1_cur_year_mon_avg_agn_amt_cd',\n",
       "       'l12mon_buy_fin_mng_whl_tms', 'l12_mon_fnd_buy_whl_tms',\n",
       "       'l12_mon_insu_buy_whl_tms', 'l12_mon_gld_buy_whl_tms', 'loan_act_ind',\n",
       "       'pl_crd_lmt_cd', 'ovd_30d_loan_tot_cnt', 'his_lng_ovd_day',\n",
       "       'hld_crd_card_grd_cd', 'crd_card_act_ind',\n",
       "       'l1y_crd_card_csm_amt_dlm_cd', 'atdd_type', 'perm_crd_lmt_cd',\n",
       "       'cur_debit_cnt', 'cur_credit_cnt', 'cur_debit_min_opn_dt_cnt',\n",
       "       'cur_credit_min_opn_dt_cnt', 'cur_debit_crd_lvl', 'flg1_trd_cnt_B',\n",
       "       'flg1_trd_cnt_C', 'trd_cnt', 'flg1_trd_cnt_B_precent',\n",
       "       'flg1_trd_cnt_C_precent', 'cny_trx_amt_B', 'cny_trx_amt_C',\n",
       "       'trx_amt_balance', 'trx_total_amount', 'cny_trx_amt_B_percent',\n",
       "       'cny_trx_amt_C_percent', 'trx_cod1_1_cnt', 'trx_cod1_2_cnt',\n",
       "       'trx_cod1_3_cnt', 'trx_cod1_cnt', 'trx_cod1_cnt_1_percent',\n",
       "       'trx_cod1_cnt_2_percent', 'trx_cod1_cnt_3_percent', 'trx_flg3_A_cnt',\n",
       "       'trx_flg3_B_cnt', 'trx_flg3_C_cnt', 'trd_flg3_cnt',\n",
       "       'trd_flg3_A_percent', 'trd_flg3_B_percent', 'trd_flg3_C_percent',\n",
       "       'beh_pred', 'beh_pred_mean', 'beh_pred_sum', 'trd_pred',\n",
       "       'trd_pred_mean', 'trd_pred_sum', 'age&gdr'],\n",
       "      dtype='object')"
      ]
     },
     "execution_count": 25,
     "metadata": {},
     "output_type": "execute_result"
    }
   ],
   "source": [
    "train_df.columns"
   ]
  },
  {
   "cell_type": "code",
   "execution_count": 26,
   "metadata": {},
   "outputs": [
    {
     "data": {
      "text/plain": [
       "gdr_cd                              object\n",
       "age                                 object\n",
       "mrg_situ_cd                         object\n",
       "edu_deg_cd                          object\n",
       "acdm_deg_cd                         object\n",
       "deg_cd                              object\n",
       "job_year                            object\n",
       "ic_ind                              object\n",
       "fr_or_sh_ind                        object\n",
       "dnl_mbl_bnk_ind                     object\n",
       "dnl_bind_cmb_lif_ind                object\n",
       "hav_car_grp_ind                     object\n",
       "hav_hou_grp_ind                     object\n",
       "l6mon_agn_ind                       object\n",
       "frs_agn_dt_cnt                      object\n",
       "vld_rsk_ases_ind                    object\n",
       "fin_rsk_ases_grd_cd                 object\n",
       "confirm_rsk_ases_lvl_typ_cd         object\n",
       "cust_inv_rsk_endu_lvl_cd            object\n",
       "l6mon_daim_aum_cd                    int64\n",
       "tot_ast_lvl_cd                      object\n",
       "pot_ast_lvl_cd                      object\n",
       "bk1_cur_year_mon_avg_agn_amt_cd      int64\n",
       "l12mon_buy_fin_mng_whl_tms          object\n",
       "l12_mon_fnd_buy_whl_tms             object\n",
       "l12_mon_insu_buy_whl_tms            object\n",
       "l12_mon_gld_buy_whl_tms             object\n",
       "loan_act_ind                        object\n",
       "pl_crd_lmt_cd                        int64\n",
       "ovd_30d_loan_tot_cnt                object\n",
       "his_lng_ovd_day                     object\n",
       "hld_crd_card_grd_cd                 object\n",
       "crd_card_act_ind                    object\n",
       "l1y_crd_card_csm_amt_dlm_cd         object\n",
       "atdd_type                           object\n",
       "perm_crd_lmt_cd                      int64\n",
       "cur_debit_cnt                        int64\n",
       "cur_credit_cnt                       int64\n",
       "cur_debit_min_opn_dt_cnt             int64\n",
       "cur_credit_min_opn_dt_cnt            int64\n",
       "cur_debit_crd_lvl                    int64\n",
       "flg1_trd_cnt_B                     float64\n",
       "flg1_trd_cnt_C                     float64\n",
       "trd_cnt                            float64\n",
       "flg1_trd_cnt_B_precent             float64\n",
       "flg1_trd_cnt_C_precent             float64\n",
       "cny_trx_amt_B                      float64\n",
       "cny_trx_amt_C                      float64\n",
       "trx_amt_balance                    float64\n",
       "trx_total_amount                   float64\n",
       "cny_trx_amt_B_percent              float64\n",
       "cny_trx_amt_C_percent              float64\n",
       "trx_cod1_1_cnt                     float64\n",
       "trx_cod1_2_cnt                     float64\n",
       "trx_cod1_3_cnt                     float64\n",
       "trx_cod1_cnt                       float64\n",
       "trx_cod1_cnt_1_percent             float64\n",
       "trx_cod1_cnt_2_percent             float64\n",
       "trx_cod1_cnt_3_percent             float64\n",
       "trx_flg3_A_cnt                     float64\n",
       "trx_flg3_B_cnt                     float64\n",
       "trx_flg3_C_cnt                     float64\n",
       "trd_flg3_cnt                       float64\n",
       "trd_flg3_A_percent                 float64\n",
       "trd_flg3_B_percent                 float64\n",
       "trd_flg3_C_percent                 float64\n",
       "beh_pred                           float64\n",
       "beh_pred_mean                      float64\n",
       "beh_pred_sum                       float64\n",
       "trd_pred                           float64\n",
       "trd_pred_mean                      float64\n",
       "trd_pred_sum                       float64\n",
       "age&gdr                             object\n",
       "dtype: object"
      ]
     },
     "execution_count": 26,
     "metadata": {},
     "output_type": "execute_result"
    }
   ],
   "source": [
    "train_df.dtypes"
   ]
  },
  {
   "cell_type": "code",
   "execution_count": 27,
   "metadata": {},
   "outputs": [],
   "source": [
    "def order_object_replace(col, val):\n",
    "    train_df[col].replace({'\\\\N': val}, inplace = True)\n",
    "    train_df[col] = train_df[col].astype('int64')\n",
    "    test_df[col].replace({'\\\\N': val}, inplace = True)\n",
    "    test_df[col] = test_df[col].astype('int64')"
   ]
  },
  {
   "cell_type": "code",
   "execution_count": 28,
   "metadata": {},
   "outputs": [
    {
     "name": "stdout",
     "output_type": "stream",
     "text": [
      "job_year\n",
      "frs_agn_dt_cnt\n",
      "fin_rsk_ases_grd_cd\n",
      "confirm_rsk_ases_lvl_typ_cd\n",
      "cust_inv_rsk_endu_lvl_cd\n",
      "tot_ast_lvl_cd\n",
      "pot_ast_lvl_cd\n",
      "l12mon_buy_fin_mng_whl_tms\n",
      "l12_mon_fnd_buy_whl_tms\n",
      "l12_mon_insu_buy_whl_tms\n",
      "l12_mon_gld_buy_whl_tms\n",
      "ovd_30d_loan_tot_cnt\n",
      "his_lng_ovd_day\n",
      "hld_crd_card_grd_cd\n",
      "l1y_crd_card_csm_amt_dlm_cd\n"
     ]
    }
   ],
   "source": [
    "order_object_cols = ['job_year', 'frs_agn_dt_cnt', 'fin_rsk_ases_grd_cd', 'confirm_rsk_ases_lvl_typ_cd', 'cust_inv_rsk_endu_lvl_cd',\n",
    "                    'tot_ast_lvl_cd', 'pot_ast_lvl_cd', 'l12mon_buy_fin_mng_whl_tms', \n",
    "                     'l12_mon_fnd_buy_whl_tms', 'l12_mon_insu_buy_whl_tms',\n",
    "                    'l12_mon_gld_buy_whl_tms', 'ovd_30d_loan_tot_cnt',\n",
    "                    'his_lng_ovd_day', 'hld_crd_card_grd_cd',\n",
    "                    'l1y_crd_card_csm_amt_dlm_cd']\n",
    "\n",
    "for col in order_object_cols:\n",
    "    print(col)\n",
    "    order_object_replace(col, -1)"
   ]
  },
  {
   "cell_type": "code",
   "execution_count": 29,
   "metadata": {},
   "outputs": [
    {
     "name": "stdout",
     "output_type": "stream",
     "text": [
      "ic_ind\n",
      "fr_or_sh_ind\n",
      "dnl_mbl_bnk_ind\n",
      "dnl_bind_cmb_lif_ind\n",
      "hav_car_grp_ind\n",
      "hav_hou_grp_ind\n",
      "l6mon_agn_ind\n",
      "vld_rsk_ases_ind\n",
      "loan_act_ind\n",
      "crd_card_act_ind\n"
     ]
    }
   ],
   "source": [
    "ind_object_cols = ['ic_ind', 'fr_or_sh_ind', 'dnl_mbl_bnk_ind',\n",
    "       'dnl_bind_cmb_lif_ind', 'hav_car_grp_ind', 'hav_hou_grp_ind',\n",
    "       'l6mon_agn_ind', 'vld_rsk_ases_ind', 'loan_act_ind',\n",
    "       'crd_card_act_ind']\n",
    "\n",
    "for col in ind_object_cols:\n",
    "    print(col)\n",
    "    order_object_replace(col, 0)"
   ]
  },
  {
   "cell_type": "code",
   "execution_count": 30,
   "metadata": {},
   "outputs": [
    {
     "data": {
      "text/plain": [
       "~     17050\n",
       "\\N      736\n",
       "A       543\n",
       "B       332\n",
       "Z       171\n",
       "C       118\n",
       "D        10\n",
       "Name: deg_cd, dtype: int64"
      ]
     },
     "execution_count": 30,
     "metadata": {},
     "output_type": "execute_result"
    }
   ],
   "source": [
    "train_df['deg_cd'].value_counts()"
   ]
  },
  {
   "cell_type": "code",
   "execution_count": 31,
   "metadata": {},
   "outputs": [],
   "source": [
    "train_df['edu_deg_cd'].fillna('\\\\N', inplace=True)\n",
    "train_df['deg_cd'].fillna('\\\\N', inplace=True)\n",
    "train_df['atdd_type'].fillna('\\\\N', inplace=True)\n",
    "train_df['acdm_deg_cd'].fillna('\\\\N', inplace=True)"
   ]
  },
  {
   "cell_type": "code",
   "execution_count": 32,
   "metadata": {},
   "outputs": [],
   "source": [
    "test_df['edu_deg_cd'].fillna('\\\\N', inplace=True)\n",
    "test_df['deg_cd'].fillna('\\\\N', inplace=True)\n",
    "test_df['atdd_type'].fillna('\\\\N', inplace=True)"
   ]
  },
  {
   "cell_type": "code",
   "execution_count": 33,
   "metadata": {},
   "outputs": [],
   "source": [
    "train_df.replace({b'\\N': 'None'}, inplace = True)\n",
    "test_df.replace({b'\\N': 'None'}, inplace = True)\n",
    "train_df.replace({'\\\\N': 'None'}, inplace = True)\n",
    "test_df.replace({'\\\\N': 'None'}, inplace = True)"
   ]
  },
  {
   "cell_type": "code",
   "execution_count": 34,
   "metadata": {},
   "outputs": [],
   "source": [
    "test_df.replace({'atdd_type': 0.0}, '0', inplace=True)\n",
    "test_df.replace({'atdd_type': 1.0}, '1', inplace=True)"
   ]
  },
  {
   "cell_type": "code",
   "execution_count": 35,
   "metadata": {
    "scrolled": true
   },
   "outputs": [
    {
     "name": "stdout",
     "output_type": "stream",
     "text": [
      "age\n",
      "gdr_cd\n",
      "mrg_situ_cd\n",
      "edu_deg_cd\n",
      "acdm_deg_cd\n",
      "deg_cd\n",
      "age&gdr\n",
      "atdd_type\n"
     ]
    }
   ],
   "source": [
    "from sklearn import preprocessing\n",
    "\n",
    "label_object_cols = ['age', 'gdr_cd','mrg_situ_cd', 'edu_deg_cd', 'acdm_deg_cd', 'deg_cd','age&gdr', 'atdd_type']\n",
    "\n",
    "for col in label_object_cols:\n",
    "    print(col)\n",
    "    le = preprocessing.LabelEncoder()\n",
    "    le.fit(list(train_df[col]) + list(test_df[col]))\n",
    "    train_df[col] = le.transform(train_df[col])\n",
    "    test_df[col] = le.transform(test_df[col])"
   ]
  },
  {
   "cell_type": "code",
   "execution_count": 36,
   "metadata": {},
   "outputs": [
    {
     "data": {
      "text/plain": [
       "gdr_cd                               int64\n",
       "age                                  int64\n",
       "mrg_situ_cd                          int64\n",
       "edu_deg_cd                           int64\n",
       "acdm_deg_cd                          int64\n",
       "deg_cd                               int64\n",
       "job_year                             int64\n",
       "ic_ind                               int64\n",
       "fr_or_sh_ind                         int64\n",
       "dnl_mbl_bnk_ind                      int64\n",
       "dnl_bind_cmb_lif_ind                 int64\n",
       "hav_car_grp_ind                      int64\n",
       "hav_hou_grp_ind                      int64\n",
       "l6mon_agn_ind                        int64\n",
       "frs_agn_dt_cnt                       int64\n",
       "vld_rsk_ases_ind                     int64\n",
       "fin_rsk_ases_grd_cd                  int64\n",
       "confirm_rsk_ases_lvl_typ_cd          int64\n",
       "cust_inv_rsk_endu_lvl_cd             int64\n",
       "l6mon_daim_aum_cd                    int64\n",
       "tot_ast_lvl_cd                       int64\n",
       "pot_ast_lvl_cd                       int64\n",
       "bk1_cur_year_mon_avg_agn_amt_cd      int64\n",
       "l12mon_buy_fin_mng_whl_tms           int64\n",
       "l12_mon_fnd_buy_whl_tms              int64\n",
       "l12_mon_insu_buy_whl_tms             int64\n",
       "l12_mon_gld_buy_whl_tms              int64\n",
       "loan_act_ind                         int64\n",
       "pl_crd_lmt_cd                        int64\n",
       "ovd_30d_loan_tot_cnt                 int64\n",
       "his_lng_ovd_day                      int64\n",
       "hld_crd_card_grd_cd                  int64\n",
       "crd_card_act_ind                     int64\n",
       "l1y_crd_card_csm_amt_dlm_cd          int64\n",
       "atdd_type                            int64\n",
       "perm_crd_lmt_cd                      int64\n",
       "cur_debit_cnt                        int64\n",
       "cur_credit_cnt                       int64\n",
       "cur_debit_min_opn_dt_cnt             int64\n",
       "cur_credit_min_opn_dt_cnt            int64\n",
       "cur_debit_crd_lvl                    int64\n",
       "flg1_trd_cnt_B                     float64\n",
       "flg1_trd_cnt_C                     float64\n",
       "trd_cnt                            float64\n",
       "flg1_trd_cnt_B_precent             float64\n",
       "flg1_trd_cnt_C_precent             float64\n",
       "cny_trx_amt_B                      float64\n",
       "cny_trx_amt_C                      float64\n",
       "trx_amt_balance                    float64\n",
       "trx_total_amount                   float64\n",
       "cny_trx_amt_B_percent              float64\n",
       "cny_trx_amt_C_percent              float64\n",
       "trx_cod1_1_cnt                     float64\n",
       "trx_cod1_2_cnt                     float64\n",
       "trx_cod1_3_cnt                     float64\n",
       "trx_cod1_cnt                       float64\n",
       "trx_cod1_cnt_1_percent             float64\n",
       "trx_cod1_cnt_2_percent             float64\n",
       "trx_cod1_cnt_3_percent             float64\n",
       "trx_flg3_A_cnt                     float64\n",
       "trx_flg3_B_cnt                     float64\n",
       "trx_flg3_C_cnt                     float64\n",
       "trd_flg3_cnt                       float64\n",
       "trd_flg3_A_percent                 float64\n",
       "trd_flg3_B_percent                 float64\n",
       "trd_flg3_C_percent                 float64\n",
       "beh_pred                           float64\n",
       "beh_pred_mean                      float64\n",
       "beh_pred_sum                       float64\n",
       "trd_pred                           float64\n",
       "trd_pred_mean                      float64\n",
       "trd_pred_sum                       float64\n",
       "age&gdr                              int64\n",
       "dtype: object"
      ]
     },
     "execution_count": 36,
     "metadata": {},
     "output_type": "execute_result"
    }
   ],
   "source": [
    "train_df.dtypes"
   ]
  },
  {
   "cell_type": "code",
   "execution_count": 37,
   "metadata": {},
   "outputs": [
    {
     "data": {
      "text/plain": [
       "gdr_cd                               int64\n",
       "age                                  int64\n",
       "mrg_situ_cd                          int64\n",
       "edu_deg_cd                           int64\n",
       "acdm_deg_cd                          int64\n",
       "deg_cd                               int64\n",
       "job_year                             int64\n",
       "ic_ind                               int64\n",
       "fr_or_sh_ind                         int64\n",
       "dnl_mbl_bnk_ind                      int64\n",
       "dnl_bind_cmb_lif_ind                 int64\n",
       "hav_car_grp_ind                      int64\n",
       "hav_hou_grp_ind                      int64\n",
       "l6mon_agn_ind                        int64\n",
       "frs_agn_dt_cnt                       int64\n",
       "vld_rsk_ases_ind                     int64\n",
       "fin_rsk_ases_grd_cd                  int64\n",
       "confirm_rsk_ases_lvl_typ_cd          int64\n",
       "cust_inv_rsk_endu_lvl_cd             int64\n",
       "l6mon_daim_aum_cd                    int64\n",
       "tot_ast_lvl_cd                       int64\n",
       "pot_ast_lvl_cd                       int64\n",
       "bk1_cur_year_mon_avg_agn_amt_cd      int64\n",
       "l12mon_buy_fin_mng_whl_tms           int64\n",
       "l12_mon_fnd_buy_whl_tms              int64\n",
       "l12_mon_insu_buy_whl_tms             int64\n",
       "l12_mon_gld_buy_whl_tms              int64\n",
       "loan_act_ind                         int64\n",
       "pl_crd_lmt_cd                        int64\n",
       "ovd_30d_loan_tot_cnt                 int64\n",
       "his_lng_ovd_day                      int64\n",
       "hld_crd_card_grd_cd                  int64\n",
       "crd_card_act_ind                     int64\n",
       "l1y_crd_card_csm_amt_dlm_cd          int64\n",
       "atdd_type                            int64\n",
       "perm_crd_lmt_cd                      int64\n",
       "cur_debit_cnt                        int64\n",
       "cur_credit_cnt                       int64\n",
       "cur_debit_min_opn_dt_cnt             int64\n",
       "cur_credit_min_opn_dt_cnt            int64\n",
       "cur_debit_crd_lvl                    int64\n",
       "flg1_trd_cnt_B                     float64\n",
       "flg1_trd_cnt_C                     float64\n",
       "trd_cnt                            float64\n",
       "flg1_trd_cnt_B_precent             float64\n",
       "flg1_trd_cnt_C_precent             float64\n",
       "cny_trx_amt_B                      float64\n",
       "cny_trx_amt_C                      float64\n",
       "trx_amt_balance                    float64\n",
       "trx_total_amount                   float64\n",
       "cny_trx_amt_B_percent              float64\n",
       "cny_trx_amt_C_percent              float64\n",
       "trx_cod1_1_cnt                     float64\n",
       "trx_cod1_2_cnt                     float64\n",
       "trx_cod1_3_cnt                     float64\n",
       "trx_cod1_cnt                       float64\n",
       "trx_cod1_cnt_1_percent             float64\n",
       "trx_cod1_cnt_2_percent             float64\n",
       "trx_cod1_cnt_3_percent             float64\n",
       "trx_flg3_A_cnt                     float64\n",
       "trx_flg3_B_cnt                     float64\n",
       "trx_flg3_C_cnt                     float64\n",
       "trd_flg3_cnt                       float64\n",
       "trd_flg3_A_percent                 float64\n",
       "trd_flg3_B_percent                 float64\n",
       "trd_flg3_C_percent                 float64\n",
       "beh_pred                           float64\n",
       "beh_pred_mean                      float64\n",
       "beh_pred_sum                       float64\n",
       "trd_pred                           float64\n",
       "trd_pred_mean                      float64\n",
       "trd_pred_sum                       float64\n",
       "age&gdr                              int64\n",
       "dtype: object"
      ]
     },
     "execution_count": 37,
     "metadata": {},
     "output_type": "execute_result"
    }
   ],
   "source": [
    "test_df.dtypes"
   ]
  },
  {
   "cell_type": "code",
   "execution_count": 38,
   "metadata": {},
   "outputs": [
    {
     "data": {
      "text/plain": [
       "gdr_cd                                0\n",
       "age                                   0\n",
       "mrg_situ_cd                           0\n",
       "edu_deg_cd                            0\n",
       "acdm_deg_cd                           0\n",
       "deg_cd                                0\n",
       "job_year                              0\n",
       "ic_ind                                0\n",
       "fr_or_sh_ind                          0\n",
       "dnl_mbl_bnk_ind                       0\n",
       "dnl_bind_cmb_lif_ind                  0\n",
       "hav_car_grp_ind                       0\n",
       "hav_hou_grp_ind                       0\n",
       "l6mon_agn_ind                         0\n",
       "frs_agn_dt_cnt                        0\n",
       "vld_rsk_ases_ind                      0\n",
       "fin_rsk_ases_grd_cd                   0\n",
       "confirm_rsk_ases_lvl_typ_cd           0\n",
       "cust_inv_rsk_endu_lvl_cd              0\n",
       "l6mon_daim_aum_cd                     0\n",
       "tot_ast_lvl_cd                        0\n",
       "pot_ast_lvl_cd                        0\n",
       "bk1_cur_year_mon_avg_agn_amt_cd       0\n",
       "l12mon_buy_fin_mng_whl_tms            0\n",
       "l12_mon_fnd_buy_whl_tms               0\n",
       "l12_mon_insu_buy_whl_tms              0\n",
       "l12_mon_gld_buy_whl_tms               0\n",
       "loan_act_ind                          0\n",
       "pl_crd_lmt_cd                         0\n",
       "ovd_30d_loan_tot_cnt                  0\n",
       "his_lng_ovd_day                       0\n",
       "hld_crd_card_grd_cd                   0\n",
       "crd_card_act_ind                      0\n",
       "l1y_crd_card_csm_amt_dlm_cd           0\n",
       "atdd_type                             0\n",
       "perm_crd_lmt_cd                       0\n",
       "cur_debit_cnt                         0\n",
       "cur_credit_cnt                        0\n",
       "cur_debit_min_opn_dt_cnt              0\n",
       "cur_credit_min_opn_dt_cnt             0\n",
       "cur_debit_crd_lvl                     0\n",
       "flg1_trd_cnt_B                      810\n",
       "flg1_trd_cnt_C                      810\n",
       "trd_cnt                             810\n",
       "flg1_trd_cnt_B_precent              810\n",
       "flg1_trd_cnt_C_precent              810\n",
       "cny_trx_amt_B                      1046\n",
       "cny_trx_amt_C                       972\n",
       "trx_amt_balance                    1208\n",
       "trx_total_amount                   1208\n",
       "cny_trx_amt_B_percent              1208\n",
       "cny_trx_amt_C_percent              1208\n",
       "trx_cod1_1_cnt                     1105\n",
       "trx_cod1_2_cnt                     2137\n",
       "trx_cod1_3_cnt                     1139\n",
       "trx_cod1_cnt                       2428\n",
       "trx_cod1_cnt_1_percent             2428\n",
       "trx_cod1_cnt_2_percent             2428\n",
       "trx_cod1_cnt_3_percent             2428\n",
       "trx_flg3_A_cnt                      810\n",
       "trx_flg3_B_cnt                      810\n",
       "trx_flg3_C_cnt                      810\n",
       "trd_flg3_cnt                        810\n",
       "trd_flg3_A_percent                  810\n",
       "trd_flg3_B_percent                  810\n",
       "trd_flg3_C_percent                  810\n",
       "beh_pred                           2768\n",
       "beh_pred_mean                      2768\n",
       "beh_pred_sum                       2768\n",
       "trd_pred                            810\n",
       "trd_pred_mean                       810\n",
       "trd_pred_sum                        810\n",
       "age&gdr                               0\n",
       "dtype: int64"
      ]
     },
     "execution_count": 38,
     "metadata": {},
     "output_type": "execute_result"
    }
   ],
   "source": [
    "test_df.isnull().sum()"
   ]
  },
  {
   "cell_type": "code",
   "execution_count": 39,
   "metadata": {},
   "outputs": [
    {
     "data": {
      "text/plain": [
       "2    2356\n",
       "0    1529\n",
       "1     115\n",
       "Name: atdd_type, dtype: int64"
      ]
     },
     "execution_count": 39,
     "metadata": {},
     "output_type": "execute_result"
    }
   ],
   "source": [
    "test_df['atdd_type'].value_counts()"
   ]
  },
  {
   "cell_type": "code",
   "execution_count": 40,
   "metadata": {},
   "outputs": [],
   "source": [
    "n_splits = 20\n",
    "random_state = 2020\n",
    "# np.random.seed(random_state)\n",
    "splits = list(StratifiedKFold(n_splits=n_splits, shuffle=True, random_state=random_state).split(train_df, train_target))\n",
    "\n",
    "cols = list(train_df.columns)\n",
    "feature_importance_df = pd.DataFrame()\n",
    "oof = np.zeros(len(train_df))\n",
    "predictions = np.zeros(len(test_df))"
   ]
  },
  {
   "cell_type": "code",
   "execution_count": 41,
   "metadata": {},
   "outputs": [
    {
     "name": "stdout",
     "output_type": "stream",
     "text": [
      "Folder 0\n"
     ]
    },
    {
     "name": "stderr",
     "output_type": "stream",
     "text": [
      "/opt/anaconda3/envs/ctr/lib/python3.7/site-packages/xgboost/core.py:587: FutureWarning: Series.base is deprecated and will be removed in a future version\n",
      "  if getattr(data, 'base', None) is not None and \\\n"
     ]
    },
    {
     "name": "stdout",
     "output_type": "stream",
     "text": [
      "[0]\teval-auc:0.751507\n",
      "Will train until eval-auc hasn't improved in 2000 rounds.\n",
      "[1000]\teval-auc:0.792869\n",
      "[2000]\teval-auc:0.789919\n",
      "Stopping. Best iteration:\n",
      "[970]\teval-auc:0.793042\n",
      "\n",
      "best score 0.793042\n",
      "best_iteration 970\n",
      "Folder 1\n",
      "[0]\teval-auc:0.748357\n",
      "Will train until eval-auc hasn't improved in 2000 rounds.\n",
      "[1000]\teval-auc:0.776603\n",
      "[2000]\teval-auc:0.77213\n",
      "Stopping. Best iteration:\n",
      "[419]\teval-auc:0.778882\n",
      "\n",
      "best score 0.778882\n",
      "best_iteration 419\n",
      "Folder 2\n",
      "[0]\teval-auc:0.743733\n",
      "Will train until eval-auc hasn't improved in 2000 rounds.\n",
      "[1000]\teval-auc:0.772784\n",
      "[2000]\teval-auc:0.765628\n",
      "Stopping. Best iteration:\n",
      "[111]\teval-auc:0.777544\n",
      "\n",
      "best score 0.777544\n",
      "best_iteration 111\n",
      "Folder 3\n",
      "[0]\teval-auc:0.739981\n",
      "Will train until eval-auc hasn't improved in 2000 rounds.\n",
      "[1000]\teval-auc:0.782692\n",
      "[2000]\teval-auc:0.777251\n",
      "Stopping. Best iteration:\n",
      "[615]\teval-auc:0.785563\n",
      "\n",
      "best score 0.785563\n",
      "best_iteration 615\n",
      "Folder 4\n",
      "[0]\teval-auc:0.725356\n",
      "Will train until eval-auc hasn't improved in 2000 rounds.\n",
      "[1000]\teval-auc:0.760616\n",
      "[2000]\teval-auc:0.758914\n",
      "Stopping. Best iteration:\n",
      "[336]\teval-auc:0.761619\n",
      "\n",
      "best score 0.761619\n",
      "best_iteration 336\n",
      "Folder 5\n",
      "[0]\teval-auc:0.736388\n",
      "Will train until eval-auc hasn't improved in 2000 rounds.\n",
      "[1000]\teval-auc:0.766543\n",
      "[2000]\teval-auc:0.759012\n",
      "Stopping. Best iteration:\n",
      "[411]\teval-auc:0.771816\n",
      "\n",
      "best score 0.771816\n",
      "best_iteration 411\n",
      "Folder 6\n",
      "[0]\teval-auc:0.723356\n",
      "Will train until eval-auc hasn't improved in 2000 rounds.\n",
      "[1000]\teval-auc:0.752688\n",
      "[2000]\teval-auc:0.745317\n",
      "Stopping. Best iteration:\n",
      "[105]\teval-auc:0.758951\n",
      "\n",
      "best score 0.758951\n",
      "best_iteration 105\n",
      "Folder 7\n",
      "[0]\teval-auc:0.718212\n",
      "Will train until eval-auc hasn't improved in 2000 rounds.\n",
      "[1000]\teval-auc:0.750849\n",
      "[2000]\teval-auc:0.74855\n",
      "Stopping. Best iteration:\n",
      "[411]\teval-auc:0.755011\n",
      "\n",
      "best score 0.755011\n",
      "best_iteration 411\n",
      "Folder 8\n",
      "[0]\teval-auc:0.729426\n",
      "Will train until eval-auc hasn't improved in 2000 rounds.\n",
      "[1000]\teval-auc:0.756809\n",
      "[2000]\teval-auc:0.751339\n",
      "Stopping. Best iteration:\n",
      "[411]\teval-auc:0.759991\n",
      "\n",
      "best score 0.759991\n",
      "best_iteration 411\n",
      "Folder 9\n",
      "[0]\teval-auc:0.738761\n",
      "Will train until eval-auc hasn't improved in 2000 rounds.\n",
      "[1000]\teval-auc:0.778529\n",
      "[2000]\teval-auc:0.775137\n",
      "Stopping. Best iteration:\n",
      "[613]\teval-auc:0.781417\n",
      "\n",
      "best score 0.781417\n",
      "best_iteration 613\n",
      "Folder 10\n",
      "[0]\teval-auc:0.732452\n",
      "Will train until eval-auc hasn't improved in 2000 rounds.\n",
      "[1000]\teval-auc:0.762799\n",
      "[2000]\teval-auc:0.759309\n",
      "Stopping. Best iteration:\n",
      "[675]\teval-auc:0.764949\n",
      "\n",
      "best score 0.764949\n",
      "best_iteration 675\n",
      "Folder 11\n",
      "[0]\teval-auc:0.724441\n",
      "Will train until eval-auc hasn't improved in 2000 rounds.\n",
      "[1000]\teval-auc:0.751776\n",
      "[2000]\teval-auc:0.747002\n",
      "Stopping. Best iteration:\n",
      "[137]\teval-auc:0.760369\n",
      "\n",
      "best score 0.760369\n",
      "best_iteration 137\n",
      "Folder 12\n",
      "[0]\teval-auc:0.71778\n",
      "Will train until eval-auc hasn't improved in 2000 rounds.\n",
      "[1000]\teval-auc:0.759562\n",
      "[2000]\teval-auc:0.75444\n",
      "Stopping. Best iteration:\n",
      "[301]\teval-auc:0.761275\n",
      "\n",
      "best score 0.761275\n",
      "best_iteration 301\n",
      "Folder 13\n",
      "[0]\teval-auc:0.745744\n",
      "Will train until eval-auc hasn't improved in 2000 rounds.\n",
      "[1000]\teval-auc:0.775681\n",
      "[2000]\teval-auc:0.76699\n",
      "Stopping. Best iteration:\n",
      "[99]\teval-auc:0.782905\n",
      "\n",
      "best score 0.782905\n",
      "best_iteration 99\n",
      "Folder 14\n",
      "[0]\teval-auc:0.743568\n",
      "Will train until eval-auc hasn't improved in 2000 rounds.\n",
      "[1000]\teval-auc:0.778094\n",
      "[2000]\teval-auc:0.776781\n",
      "[3000]\teval-auc:0.775182\n",
      "Stopping. Best iteration:\n",
      "[1207]\teval-auc:0.779642\n",
      "\n",
      "best score 0.779642\n",
      "best_iteration 1207\n",
      "Folder 15\n",
      "[0]\teval-auc:0.726725\n",
      "Will train until eval-auc hasn't improved in 2000 rounds.\n",
      "[1000]\teval-auc:0.769695\n",
      "[2000]\teval-auc:0.764864\n",
      "Stopping. Best iteration:\n",
      "[511]\teval-auc:0.771845\n",
      "\n",
      "best score 0.771845\n",
      "best_iteration 511\n",
      "Folder 16\n",
      "[0]\teval-auc:0.737245\n",
      "Will train until eval-auc hasn't improved in 2000 rounds.\n",
      "[1000]\teval-auc:0.776288\n",
      "[2000]\teval-auc:0.773708\n",
      "Stopping. Best iteration:\n",
      "[609]\teval-auc:0.779654\n",
      "\n",
      "best score 0.779654\n",
      "best_iteration 609\n",
      "Folder 17\n",
      "[0]\teval-auc:0.742673\n",
      "Will train until eval-auc hasn't improved in 2000 rounds.\n",
      "[1000]\teval-auc:0.769032\n",
      "[2000]\teval-auc:0.767257\n",
      "Stopping. Best iteration:\n",
      "[136]\teval-auc:0.775182\n",
      "\n",
      "best score 0.775182\n",
      "best_iteration 136\n",
      "Folder 18\n",
      "[0]\teval-auc:0.719869\n",
      "Will train until eval-auc hasn't improved in 2000 rounds.\n",
      "[1000]\teval-auc:0.744081\n",
      "[2000]\teval-auc:0.74007\n",
      "Stopping. Best iteration:\n",
      "[88]\teval-auc:0.748134\n",
      "\n",
      "best score 0.748134\n",
      "best_iteration 88\n",
      "Folder 19\n",
      "[0]\teval-auc:0.729114\n",
      "Will train until eval-auc hasn't improved in 2000 rounds.\n",
      "[1000]\teval-auc:0.767694\n",
      "[2000]\teval-auc:0.76483\n",
      "Stopping. Best iteration:\n",
      "[492]\teval-auc:0.768737\n",
      "\n",
      "best score 0.768737\n",
      "best_iteration 492\n",
      "0.7706150019397752\n"
     ]
    }
   ],
   "source": [
    "xgb_param = {\n",
    "    \"objective\" : \"binary:logistic\",\n",
    "    \"eval_metric\" : \"auc\",\n",
    "    \"max_depth\" : 7,\n",
    "    \"learning_rate\" : 0.05,\n",
    "    \"bagging_seed\" : random_state,\n",
    "    \"seed\": random_state,\n",
    "    'gpu_id':3,\n",
    "    'tree_method': 'gpu_hist',\n",
    "    'min_child_weight': 80\n",
    "}\n",
    "test_data_M = xgb.DMatrix(test_df, feature_names=cols)\n",
    "\n",
    "for i, (train_idx, valid_idx) in enumerate(splits):\n",
    "    print('Folder', i)\n",
    "    x_tr, y_tr = train_df.iloc[train_idx], train_target.iloc[train_idx]\n",
    "    x_valid, y_valid = train_df.iloc[valid_idx], train_target.iloc[valid_idx]\n",
    "    \n",
    "    train_data = xgb.DMatrix(x_tr, label=y_tr, feature_names=cols)\n",
    "    valid_data = xgb.DMatrix(x_valid, label=y_valid, feature_names=cols)\n",
    "    \n",
    "    num_round = 100000\n",
    "   \n",
    "    clf = xgb.train(xgb_param, train_data, num_round, [(valid_data, 'eval')], early_stopping_rounds=2000, verbose_eval=1000)\n",
    "    \n",
    "    print(f'best score {clf.best_score}')\n",
    "    print(f'best_iteration {clf.best_iteration}')\n",
    "    \n",
    "    oof[valid_idx] = clf.predict(valid_data, ntree_limit=clf.best_ntree_limit)\n",
    "    predictions += clf.predict(test_data_M, ntree_limit=clf.best_ntree_limit) / n_splits\n",
    "    \n",
    "    del x_tr\n",
    "    del y_tr\n",
    "\n",
    "print(metrics.roc_auc_score(train_target.values, oof))"
   ]
  },
  {
   "cell_type": "code",
   "execution_count": 42,
   "metadata": {},
   "outputs": [],
   "source": [
    "import os\n",
    "\n",
    "with open(os.path.join('result','xgboost_oof_test_77061.txt'), 'w+') as f:\n",
    "    for tid, pred in zip(test_id, predictions):\n",
    "        f.write('{}\\t{}\\n'.format(tid, pred))"
   ]
  },
  {
   "cell_type": "code",
   "execution_count": 43,
   "metadata": {},
   "outputs": [],
   "source": [
    "submission = pd.DataFrame({'ID': test_id, 'flag': predictions})\n",
    "oof = pd.DataFrame({'flag': oof})"
   ]
  },
  {
   "cell_type": "code",
   "execution_count": 44,
   "metadata": {},
   "outputs": [],
   "source": [
    "submission.to_csv('./xgboost_oof_test_77061.csv', index = False)\n",
    "oof.to_csv('./xgboost_oof_train_77061.csv')"
   ]
  },
  {
   "cell_type": "code",
   "execution_count": 158,
   "metadata": {},
   "outputs": [
    {
     "name": "stderr",
     "output_type": "stream",
     "text": [
      "UsageError: Line magic function `%qt` not found.\n"
     ]
    }
   ],
   "source": [
    "%qt"
   ]
  },
  {
   "cell_type": "code",
   "execution_count": 157,
   "metadata": {},
   "outputs": [
    {
     "data": {
      "image/png": "[encoded data removed]",
      "text/plain": [
       "<Figure size 432x288 with 1 Axes>"
      ]
     },
     "metadata": {
      "needs_background": "light"
     },
     "output_type": "display_data"
    }
   ],
   "source": [
    "from xgboost import plot_importance\n",
    "from matplotlib import pyplot\n",
    "plot_importance(clf)\n",
    "pyplot.show()"
   ]
  },
  {
   "cell_type": "code",
   "execution_count": null,
   "metadata": {},
   "outputs": [],
   "source": []
  }
 ],
 "metadata": {
  "kernelspec": {
   "display_name": "Python 3",
   "language": "python",
   "name": "python3"
  },
  "language_info": {
   "codemirror_mode": {
    "name": "ipython",
    "version": 3
   },
   "file_extension": ".py",
   "mimetype": "text/x-python",
   "name": "python",
   "nbconvert_exporter": "python",
   "pygments_lexer": "ipython3",
   "version": "3.7.5"
  }
 },
 "nbformat": 4,
 "nbformat_minor": 2
}
