{
 "cells": [
  {
   "cell_type": "code",
   "execution_count": 1,
   "metadata": {},
   "outputs": [],
   "source": [
    "import numpy as np\n",
    "import pandas as pd\n",
    "import catboost as cat\n",
    "from sklearn.model_selection import StratifiedKFold\n",
    "from sklearn import metrics\n",
    "from sklearn.preprocessing import LabelEncoder\n",
    " \n",
    "pd.set_option('precision', 5)\n",
    "pd.set_option('display.float_format', lambda x: '%.5f' % x) \n",
    "pd.options.display.max_rows = 200"
   ]
  },
  {
   "cell_type": "code",
   "execution_count": 2,
   "metadata": {},
   "outputs": [
    {
     "name": "stdout",
     "output_type": "stream",
     "text": [
      "(1367211, 8)\n",
      "(142645, 7)\n"
     ]
    }
   ],
   "source": [
    "train_df = pd.read_csv('data/train/train_trd.csv')\n",
    "test_df = pd.read_csv('data/test/test_trd_b.csv')\n",
    "print(train_df.shape)\n",
    "print(test_df.shape)"
   ]
  },
  {
   "cell_type": "code",
   "execution_count": 3,
   "metadata": {},
   "outputs": [
    {
     "data": {
      "text/html": [
       "<div>\n",
       "<style scoped>\n",
       "    .dataframe tbody tr th:only-of-type {\n",
       "        vertical-align: middle;\n",
       "    }\n",
       "\n",
       "    .dataframe tbody tr th {\n",
       "        vertical-align: top;\n",
       "    }\n",
       "\n",
       "    .dataframe thead th {\n",
       "        text-align: right;\n",
       "    }\n",
       "</style>\n",
       "<table border=\"1\" class=\"dataframe\">\n",
       "  <thead>\n",
       "    <tr style=\"text-align: right;\">\n",
       "      <th></th>\n",
       "      <th>id</th>\n",
       "      <th>flag</th>\n",
       "      <th>Dat_Flg1_Cd</th>\n",
       "      <th>Dat_Flg3_Cd</th>\n",
       "      <th>Trx_Cod1_Cd</th>\n",
       "      <th>Trx_Cod2_Cd</th>\n",
       "      <th>trx_tm</th>\n",
       "      <th>cny_trx_amt</th>\n",
       "    </tr>\n",
       "  </thead>\n",
       "  <tbody>\n",
       "    <tr>\n",
       "      <th>0</th>\n",
       "      <td>UFDC88A</td>\n",
       "      <td>0</td>\n",
       "      <td>B</td>\n",
       "      <td>B</td>\n",
       "      <td>1</td>\n",
       "      <td>116</td>\n",
       "      <td>2019-06-20 07:15:28</td>\n",
       "      <td>-127.99000</td>\n",
       "    </tr>\n",
       "    <tr>\n",
       "      <th>1</th>\n",
       "      <td>UFDC88A</td>\n",
       "      <td>0</td>\n",
       "      <td>B</td>\n",
       "      <td>B</td>\n",
       "      <td>1</td>\n",
       "      <td>116</td>\n",
       "      <td>2019-06-16 10:09:13</td>\n",
       "      <td>-55.88000</td>\n",
       "    </tr>\n",
       "    <tr>\n",
       "      <th>2</th>\n",
       "      <td>UFDC88A</td>\n",
       "      <td>0</td>\n",
       "      <td>B</td>\n",
       "      <td>B</td>\n",
       "      <td>1</td>\n",
       "      <td>136</td>\n",
       "      <td>2019-05-14 16:11:32</td>\n",
       "      <td>-557.00000</td>\n",
       "    </tr>\n",
       "    <tr>\n",
       "      <th>3</th>\n",
       "      <td>UFDC88A</td>\n",
       "      <td>0</td>\n",
       "      <td>B</td>\n",
       "      <td>B</td>\n",
       "      <td>1</td>\n",
       "      <td>136</td>\n",
       "      <td>2019-05-19 21:54:40</td>\n",
       "      <td>-77.80000</td>\n",
       "    </tr>\n",
       "    <tr>\n",
       "      <th>4</th>\n",
       "      <td>UFDC88A</td>\n",
       "      <td>0</td>\n",
       "      <td>B</td>\n",
       "      <td>B</td>\n",
       "      <td>1</td>\n",
       "      <td>113</td>\n",
       "      <td>2019-06-18 08:23:59</td>\n",
       "      <td>-271.62000</td>\n",
       "    </tr>\n",
       "  </tbody>\n",
       "</table>\n",
       "</div>"
      ],
      "text/plain": [
       "        id  flag Dat_Flg1_Cd Dat_Flg3_Cd  Trx_Cod1_Cd  Trx_Cod2_Cd  \\\n",
       "0  UFDC88A     0           B           B            1          116   \n",
       "1  UFDC88A     0           B           B            1          116   \n",
       "2  UFDC88A     0           B           B            1          136   \n",
       "3  UFDC88A     0           B           B            1          136   \n",
       "4  UFDC88A     0           B           B            1          113   \n",
       "\n",
       "                trx_tm  cny_trx_amt  \n",
       "0  2019-06-20 07:15:28   -127.99000  \n",
       "1  2019-06-16 10:09:13    -55.88000  \n",
       "2  2019-05-14 16:11:32   -557.00000  \n",
       "3  2019-05-19 21:54:40    -77.80000  \n",
       "4  2019-06-18 08:23:59   -271.62000  "
      ]
     },
     "execution_count": 3,
     "metadata": {},
     "output_type": "execute_result"
    }
   ],
   "source": [
    "train_df.head(5)"
   ]
  },
  {
   "cell_type": "code",
   "execution_count": 4,
   "metadata": {},
   "outputs": [
    {
     "data": {
      "text/html": [
       "<div>\n",
       "<style scoped>\n",
       "    .dataframe tbody tr th:only-of-type {\n",
       "        vertical-align: middle;\n",
       "    }\n",
       "\n",
       "    .dataframe tbody tr th {\n",
       "        vertical-align: top;\n",
       "    }\n",
       "\n",
       "    .dataframe thead th {\n",
       "        text-align: right;\n",
       "    }\n",
       "</style>\n",
       "<table border=\"1\" class=\"dataframe\">\n",
       "  <thead>\n",
       "    <tr style=\"text-align: right;\">\n",
       "      <th></th>\n",
       "      <th>id</th>\n",
       "      <th>Dat_Flg1_Cd</th>\n",
       "      <th>Dat_Flg3_Cd</th>\n",
       "      <th>Trx_Cod1_Cd</th>\n",
       "      <th>Trx_Cod2_Cd</th>\n",
       "      <th>trx_tm</th>\n",
       "      <th>cny_trx_amt</th>\n",
       "    </tr>\n",
       "  </thead>\n",
       "  <tbody>\n",
       "    <tr>\n",
       "      <th>0</th>\n",
       "      <td>U452CA2</td>\n",
       "      <td>B</td>\n",
       "      <td>B</td>\n",
       "      <td>1</td>\n",
       "      <td>130</td>\n",
       "      <td>2019-06-01 00:29:32</td>\n",
       "      <td>-5.00000</td>\n",
       "    </tr>\n",
       "    <tr>\n",
       "      <th>1</th>\n",
       "      <td>U452CA2</td>\n",
       "      <td>B</td>\n",
       "      <td>B</td>\n",
       "      <td>1</td>\n",
       "      <td>136</td>\n",
       "      <td>2019-05-15 00:00:00</td>\n",
       "      <td>-37.19000</td>\n",
       "    </tr>\n",
       "    <tr>\n",
       "      <th>2</th>\n",
       "      <td>U452CA2</td>\n",
       "      <td>C</td>\n",
       "      <td>B</td>\n",
       "      <td>3</td>\n",
       "      <td>309</td>\n",
       "      <td>2019-05-30 13:22:08</td>\n",
       "      <td>249.47000</td>\n",
       "    </tr>\n",
       "    <tr>\n",
       "      <th>3</th>\n",
       "      <td>U452CA2</td>\n",
       "      <td>B</td>\n",
       "      <td>B</td>\n",
       "      <td>1</td>\n",
       "      <td>108</td>\n",
       "      <td>2019-05-30 14:37:13</td>\n",
       "      <td>-29.94000</td>\n",
       "    </tr>\n",
       "    <tr>\n",
       "      <th>4</th>\n",
       "      <td>U452CA2</td>\n",
       "      <td>B</td>\n",
       "      <td>B</td>\n",
       "      <td>1</td>\n",
       "      <td>136</td>\n",
       "      <td>2019-06-21 00:00:00</td>\n",
       "      <td>-111.31000</td>\n",
       "    </tr>\n",
       "  </tbody>\n",
       "</table>\n",
       "</div>"
      ],
      "text/plain": [
       "        id Dat_Flg1_Cd Dat_Flg3_Cd  Trx_Cod1_Cd  Trx_Cod2_Cd  \\\n",
       "0  U452CA2           B           B            1          130   \n",
       "1  U452CA2           B           B            1          136   \n",
       "2  U452CA2           C           B            3          309   \n",
       "3  U452CA2           B           B            1          108   \n",
       "4  U452CA2           B           B            1          136   \n",
       "\n",
       "                trx_tm  cny_trx_amt  \n",
       "0  2019-06-01 00:29:32     -5.00000  \n",
       "1  2019-05-15 00:00:00    -37.19000  \n",
       "2  2019-05-30 13:22:08    249.47000  \n",
       "3  2019-05-30 14:37:13    -29.94000  \n",
       "4  2019-06-21 00:00:00   -111.31000  "
      ]
     },
     "execution_count": 4,
     "metadata": {},
     "output_type": "execute_result"
    }
   ],
   "source": [
    "test_df.head(5)"
   ]
  },
  {
   "cell_type": "code",
   "execution_count": 5,
   "metadata": {},
   "outputs": [
    {
     "data": {
      "text/html": [
       "<div>\n",
       "<style scoped>\n",
       "    .dataframe tbody tr th:only-of-type {\n",
       "        vertical-align: middle;\n",
       "    }\n",
       "\n",
       "    .dataframe tbody tr th {\n",
       "        vertical-align: top;\n",
       "    }\n",
       "\n",
       "    .dataframe thead th {\n",
       "        text-align: right;\n",
       "    }\n",
       "</style>\n",
       "<table border=\"1\" class=\"dataframe\">\n",
       "  <thead>\n",
       "    <tr style=\"text-align: right;\">\n",
       "      <th></th>\n",
       "      <th>id</th>\n",
       "      <th>flag</th>\n",
       "      <th>Dat_Flg1_Cd</th>\n",
       "      <th>Dat_Flg3_Cd</th>\n",
       "      <th>Trx_Cod1_Cd</th>\n",
       "      <th>Trx_Cod2_Cd</th>\n",
       "      <th>trx_tm</th>\n",
       "      <th>cny_trx_amt</th>\n",
       "    </tr>\n",
       "  </thead>\n",
       "  <tbody>\n",
       "    <tr>\n",
       "      <th>count</th>\n",
       "      <td>1367211</td>\n",
       "      <td>1367211.00000</td>\n",
       "      <td>1367211</td>\n",
       "      <td>1367211</td>\n",
       "      <td>1367211.00000</td>\n",
       "      <td>1367211.00000</td>\n",
       "      <td>1367211</td>\n",
       "      <td>1367211.00000</td>\n",
       "    </tr>\n",
       "    <tr>\n",
       "      <th>unique</th>\n",
       "      <td>31993</td>\n",
       "      <td>nan</td>\n",
       "      <td>2</td>\n",
       "      <td>3</td>\n",
       "      <td>nan</td>\n",
       "      <td>nan</td>\n",
       "      <td>1088223</td>\n",
       "      <td>nan</td>\n",
       "    </tr>\n",
       "    <tr>\n",
       "      <th>top</th>\n",
       "      <td>UBD9C48</td>\n",
       "      <td>nan</td>\n",
       "      <td>B</td>\n",
       "      <td>A</td>\n",
       "      <td>nan</td>\n",
       "      <td>nan</td>\n",
       "      <td>2019-06-01 00:29:49</td>\n",
       "      <td>nan</td>\n",
       "    </tr>\n",
       "    <tr>\n",
       "      <th>freq</th>\n",
       "      <td>5836</td>\n",
       "      <td>nan</td>\n",
       "      <td>1068119</td>\n",
       "      <td>695630</td>\n",
       "      <td>nan</td>\n",
       "      <td>nan</td>\n",
       "      <td>704</td>\n",
       "      <td>nan</td>\n",
       "    </tr>\n",
       "    <tr>\n",
       "      <th>mean</th>\n",
       "      <td>NaN</td>\n",
       "      <td>0.15735</td>\n",
       "      <td>NaN</td>\n",
       "      <td>NaN</td>\n",
       "      <td>1.47515</td>\n",
       "      <td>166.65003</td>\n",
       "      <td>NaN</td>\n",
       "      <td>4.89295</td>\n",
       "    </tr>\n",
       "    <tr>\n",
       "      <th>std</th>\n",
       "      <td>NaN</td>\n",
       "      <td>0.36413</td>\n",
       "      <td>NaN</td>\n",
       "      <td>NaN</td>\n",
       "      <td>0.77402</td>\n",
       "      <td>71.77708</td>\n",
       "      <td>NaN</td>\n",
       "      <td>69971.66252</td>\n",
       "    </tr>\n",
       "    <tr>\n",
       "      <th>min</th>\n",
       "      <td>NaN</td>\n",
       "      <td>0.00000</td>\n",
       "      <td>NaN</td>\n",
       "      <td>NaN</td>\n",
       "      <td>1.00000</td>\n",
       "      <td>101.00000</td>\n",
       "      <td>NaN</td>\n",
       "      <td>-23900000.00000</td>\n",
       "    </tr>\n",
       "    <tr>\n",
       "      <th>25%</th>\n",
       "      <td>NaN</td>\n",
       "      <td>0.00000</td>\n",
       "      <td>NaN</td>\n",
       "      <td>NaN</td>\n",
       "      <td>1.00000</td>\n",
       "      <td>117.00000</td>\n",
       "      <td>NaN</td>\n",
       "      <td>-200.00000</td>\n",
       "    </tr>\n",
       "    <tr>\n",
       "      <th>50%</th>\n",
       "      <td>NaN</td>\n",
       "      <td>0.00000</td>\n",
       "      <td>NaN</td>\n",
       "      <td>NaN</td>\n",
       "      <td>1.00000</td>\n",
       "      <td>134.00000</td>\n",
       "      <td>NaN</td>\n",
       "      <td>-24.00000</td>\n",
       "    </tr>\n",
       "    <tr>\n",
       "      <th>75%</th>\n",
       "      <td>NaN</td>\n",
       "      <td>0.00000</td>\n",
       "      <td>NaN</td>\n",
       "      <td>NaN</td>\n",
       "      <td>2.00000</td>\n",
       "      <td>209.00000</td>\n",
       "      <td>NaN</td>\n",
       "      <td>-2.00000</td>\n",
       "    </tr>\n",
       "    <tr>\n",
       "      <th>max</th>\n",
       "      <td>NaN</td>\n",
       "      <td>1.00000</td>\n",
       "      <td>NaN</td>\n",
       "      <td>NaN</td>\n",
       "      <td>3.00000</td>\n",
       "      <td>311.00000</td>\n",
       "      <td>NaN</td>\n",
       "      <td>33895156.67000</td>\n",
       "    </tr>\n",
       "  </tbody>\n",
       "</table>\n",
       "</div>"
      ],
      "text/plain": [
       "             id          flag Dat_Flg1_Cd Dat_Flg3_Cd   Trx_Cod1_Cd  \\\n",
       "count   1367211 1367211.00000     1367211     1367211 1367211.00000   \n",
       "unique    31993           nan           2           3           nan   \n",
       "top     UBD9C48           nan           B           A           nan   \n",
       "freq       5836           nan     1068119      695630           nan   \n",
       "mean        NaN       0.15735         NaN         NaN       1.47515   \n",
       "std         NaN       0.36413         NaN         NaN       0.77402   \n",
       "min         NaN       0.00000         NaN         NaN       1.00000   \n",
       "25%         NaN       0.00000         NaN         NaN       1.00000   \n",
       "50%         NaN       0.00000         NaN         NaN       1.00000   \n",
       "75%         NaN       0.00000         NaN         NaN       2.00000   \n",
       "max         NaN       1.00000         NaN         NaN       3.00000   \n",
       "\n",
       "         Trx_Cod2_Cd               trx_tm     cny_trx_amt  \n",
       "count  1367211.00000              1367211   1367211.00000  \n",
       "unique           nan              1088223             nan  \n",
       "top              nan  2019-06-01 00:29:49             nan  \n",
       "freq             nan                  704             nan  \n",
       "mean       166.65003                  NaN         4.89295  \n",
       "std         71.77708                  NaN     69971.66252  \n",
       "min        101.00000                  NaN -23900000.00000  \n",
       "25%        117.00000                  NaN      -200.00000  \n",
       "50%        134.00000                  NaN       -24.00000  \n",
       "75%        209.00000                  NaN        -2.00000  \n",
       "max        311.00000                  NaN  33895156.67000  "
      ]
     },
     "execution_count": 5,
     "metadata": {},
     "output_type": "execute_result"
    }
   ],
   "source": [
    "train_df.describe(include='all')"
   ]
  },
  {
   "cell_type": "code",
   "execution_count": 6,
   "metadata": {},
   "outputs": [
    {
     "data": {
      "text/plain": [
       "Index(['id', 'flag', 'Dat_Flg1_Cd', 'Dat_Flg3_Cd', 'Trx_Cod1_Cd',\n",
       "       'Trx_Cod2_Cd', 'trx_tm', 'cny_trx_amt'],\n",
       "      dtype='object')"
      ]
     },
     "execution_count": 6,
     "metadata": {},
     "output_type": "execute_result"
    }
   ],
   "source": [
    "train_target = train_df['flag']\n",
    "train_df.columns"
   ]
  },
  {
   "cell_type": "code",
   "execution_count": 7,
   "metadata": {},
   "outputs": [],
   "source": [
    "train_df.drop(['flag'], axis = 1, inplace=True)"
   ]
  },
  {
   "cell_type": "code",
   "execution_count": 8,
   "metadata": {},
   "outputs": [
    {
     "name": "stdout",
     "output_type": "stream",
     "text": [
      "(1367211, 7)\n",
      "(142645, 7)\n"
     ]
    }
   ],
   "source": [
    "print(train_df.shape)\n",
    "print(test_df.shape)"
   ]
  },
  {
   "cell_type": "code",
   "execution_count": 9,
   "metadata": {},
   "outputs": [],
   "source": [
    "train_id = train_df['id']\n",
    "test_id = test_df['id']\n",
    "train_df.drop(['id'], axis = 1, inplace=True)\n",
    "test_df.drop(['id'], axis = 1, inplace=True)"
   ]
  },
  {
   "cell_type": "code",
   "execution_count": 10,
   "metadata": {},
   "outputs": [
    {
     "data": {
      "text/plain": [
       "Index(['Dat_Flg1_Cd', 'Dat_Flg3_Cd', 'Trx_Cod1_Cd', 'Trx_Cod2_Cd', 'trx_tm',\n",
       "       'cny_trx_amt'],\n",
       "      dtype='object')"
      ]
     },
     "execution_count": 10,
     "metadata": {},
     "output_type": "execute_result"
    }
   ],
   "source": [
    "train_df.columns"
   ]
  },
  {
   "cell_type": "code",
   "execution_count": 11,
   "metadata": {},
   "outputs": [
    {
     "data": {
      "text/plain": [
       "Dat_Flg1_Cd     object\n",
       "Dat_Flg3_Cd     object\n",
       "Trx_Cod1_Cd      int64\n",
       "Trx_Cod2_Cd      int64\n",
       "trx_tm          object\n",
       "cny_trx_amt    float64\n",
       "dtype: object"
      ]
     },
     "execution_count": 11,
     "metadata": {},
     "output_type": "execute_result"
    }
   ],
   "source": [
    "train_df.dtypes"
   ]
  },
  {
   "cell_type": "code",
   "execution_count": 12,
   "metadata": {},
   "outputs": [
    {
     "data": {
      "text/plain": [
       "Dat_Flg1_Cd    0\n",
       "Dat_Flg3_Cd    0\n",
       "Trx_Cod1_Cd    0\n",
       "Trx_Cod2_Cd    0\n",
       "trx_tm         0\n",
       "cny_trx_amt    0\n",
       "dtype: int64"
      ]
     },
     "execution_count": 12,
     "metadata": {},
     "output_type": "execute_result"
    }
   ],
   "source": [
    "test_df.isnull().sum()"
   ]
  },
  {
   "cell_type": "code",
   "execution_count": 13,
   "metadata": {},
   "outputs": [
    {
     "data": {
      "text/plain": [
       "datetime.datetime(2020, 5, 10, 12, 49, 48, 55792)"
      ]
     },
     "execution_count": 13,
     "metadata": {},
     "output_type": "execute_result"
    }
   ],
   "source": [
    "# 时间转换为秒数\n",
    "from datetime import datetime\n",
    "from datetime import timedelta\n",
    "now = datetime.now()\n",
    "now"
   ]
  },
  {
   "cell_type": "code",
   "execution_count": 14,
   "metadata": {},
   "outputs": [
    {
     "data": {
      "text/plain": [
       "0          2019-06-20 07:15:28\n",
       "1          2019-06-16 10:09:13\n",
       "2          2019-05-14 16:11:32\n",
       "3          2019-05-19 21:54:40\n",
       "4          2019-06-18 08:23:59\n",
       "                  ...         \n",
       "1367206    2019-06-24 15:16:12\n",
       "1367207    2019-05-24 15:16:12\n",
       "1367208    2019-05-24 15:16:12\n",
       "1367209    2019-06-24 15:16:12\n",
       "1367210    2019-06-01 11:52:22\n",
       "Name: trx_tm, Length: 1367211, dtype: object"
      ]
     },
     "execution_count": 14,
     "metadata": {},
     "output_type": "execute_result"
    }
   ],
   "source": [
    "train_df['trx_tm']"
   ]
  },
  {
   "cell_type": "code",
   "execution_count": 15,
   "metadata": {},
   "outputs": [],
   "source": [
    "delta = (now - pd.to_datetime(train_df['trx_tm'])).dt"
   ]
  },
  {
   "cell_type": "code",
   "execution_count": 16,
   "metadata": {},
   "outputs": [],
   "source": [
    "train_df['trx_tm_sec'] = delta.days * 24 * 60 * 60 + delta.seconds\n",
    "train_df['trx_tm_day'] = delta.days"
   ]
  },
  {
   "cell_type": "code",
   "execution_count": 17,
   "metadata": {},
   "outputs": [],
   "source": [
    "delta = (now - pd.to_datetime(test_df['trx_tm'])).dt\n",
    "test_df['trx_tm_sec'] = delta.days * 24 * 60 * 60 + delta.seconds\n",
    "test_df['trx_tm_day'] = delta.days"
   ]
  },
  {
   "cell_type": "code",
   "execution_count": 18,
   "metadata": {},
   "outputs": [
    {
     "data": {
      "text/plain": [
       "array([28100060, 28435235, 31264696, ..., 27725616, 30404016, 29725046])"
      ]
     },
     "execution_count": 18,
     "metadata": {},
     "output_type": "execute_result"
    }
   ],
   "source": [
    "train_df['trx_tm_sec'].unique()"
   ]
  },
  {
   "cell_type": "code",
   "execution_count": 19,
   "metadata": {},
   "outputs": [],
   "source": [
    "train_df.drop(['trx_tm'], axis = 1, inplace=True)\n",
    "test_df.drop(['trx_tm'], axis = 1, inplace=True)"
   ]
  },
  {
   "cell_type": "code",
   "execution_count": 20,
   "metadata": {},
   "outputs": [],
   "source": [
    "n_splits = 5\n",
    "random_state = 2000\n",
    "# np.random.seed(random_state)\n",
    "splits = list(StratifiedKFold(n_splits=n_splits, shuffle=True, random_state=random_state).split(train_df, train_target))\n",
    "\n",
    "cols = list(train_df.columns)\n",
    "sparse_features = ['Dat_Flg1_Cd', 'Dat_Flg3_Cd', 'Trx_Cod1_Cd', 'Trx_Cod2_Cd']\n",
    "\n",
    "feature_importance_df = pd.DataFrame()\n",
    "oof = np.zeros(len(train_df))\n",
    "predictions = np.zeros(len(test_df))"
   ]
  },
  {
   "cell_type": "code",
   "execution_count": 21,
   "metadata": {},
   "outputs": [
    {
     "name": "stdout",
     "output_type": "stream",
     "text": [
      "Folder 0\n",
      "0:\tlearn: 0.6153222\ttest: 0.6159795\tbest: 0.6159795 (0)\ttotal: 61.8ms\tremaining: 1h 42m 56s\n",
      "1000:\tlearn: 0.6496538\ttest: 0.6354358\tbest: 0.6354358 (1000)\ttotal: 1m 1s\tremaining: 1h 41m 17s\n",
      "2000:\tlearn: 0.6615166\ttest: 0.6369233\tbest: 0.6369233 (2000)\ttotal: 2m 4s\tremaining: 1h 41m 35s\n",
      "3000:\tlearn: 0.6709138\ttest: 0.6377584\tbest: 0.6377698 (2995)\ttotal: 3m 7s\tremaining: 1h 41m 9s\n",
      "4000:\tlearn: 0.6789054\ttest: 0.6380326\tbest: 0.6381088 (3848)\ttotal: 4m 10s\tremaining: 1h 40m 16s\n",
      "5000:\tlearn: 0.6862119\ttest: 0.6382243\tbest: 0.6382243 (5000)\ttotal: 5m 14s\tremaining: 1h 39m 33s\n",
      "6000:\tlearn: 0.6925678\ttest: 0.6382032\tbest: 0.6383160 (5500)\ttotal: 6m 26s\tremaining: 1h 40m 54s\n",
      "7000:\tlearn: 0.6981902\ttest: 0.6379768\tbest: 0.6383160 (5500)\ttotal: 7m 29s\tremaining: 1h 39m 36s\n",
      "bestTest = 0.6383160353\n",
      "bestIteration = 5500\n",
      "Shrink model to first 5501 iterations.\n",
      "best score {'learn': {'Logloss': 0.39814504767007264, 'AUC': 0.7009848654270172}, 'validation': {'Logloss': 0.41765682770266566, 'AUC': 0.6383160352706909}}\n",
      "best_iteration 5500\n",
      "Folder 1\n",
      "0:\tlearn: 0.6153945\ttest: 0.6139791\tbest: 0.6139791 (0)\ttotal: 60.4ms\tremaining: 1h 40m 42s\n",
      "1000:\tlearn: 0.6506149\ttest: 0.6355588\tbest: 0.6355607 (999)\ttotal: 1m 11s\tremaining: 1h 57m 14s\n",
      "2000:\tlearn: 0.6621045\ttest: 0.6368502\tbest: 0.6368620 (1952)\ttotal: 2m 16s\tremaining: 1h 51m 40s\n",
      "3000:\tlearn: 0.6715317\ttest: 0.6377258\tbest: 0.6377443 (2986)\ttotal: 3m 26s\tremaining: 1h 51m 25s\n",
      "4000:\tlearn: 0.6798253\ttest: 0.6381134\tbest: 0.6381527 (3947)\ttotal: 4m 47s\tremaining: 1h 55m 7s\n",
      "5000:\tlearn: 0.6868964\ttest: 0.6382218\tbest: 0.6382511 (4521)\ttotal: 5m 59s\tremaining: 1h 53m 52s\n",
      "6000:\tlearn: 0.6933978\ttest: 0.6383473\tbest: 0.6384125 (5593)\ttotal: 7m 11s\tremaining: 1h 52m 42s\n",
      "7000:\tlearn: 0.6992589\ttest: 0.6383114\tbest: 0.6384125 (5593)\ttotal: 8m 25s\tremaining: 1h 52m 1s\n",
      "bestTest = 0.6384125352\n",
      "bestIteration = 5593\n",
      "Shrink model to first 5594 iterations.\n",
      "best score {'learn': {'Logloss': 0.397510008968987, 'AUC': 0.7025801241397858}, 'validation': {'Logloss': 0.4176028417360903, 'AUC': 0.6384125351905823}}\n",
      "best_iteration 5593\n",
      "Folder 2\n",
      "0:\tlearn: 0.6142722\ttest: 0.6148474\tbest: 0.6148474 (0)\ttotal: 132ms\tremaining: 3h 39m 12s\n",
      "1000:\tlearn: 0.6502524\ttest: 0.6351584\tbest: 0.6351584 (1000)\ttotal: 1m 8s\tremaining: 1h 53m 35s\n",
      "2000:\tlearn: 0.6614141\ttest: 0.6364110\tbest: 0.6364110 (2000)\ttotal: 2m 32s\tremaining: 2h 4m 32s\n",
      "3000:\tlearn: 0.6703429\ttest: 0.6368388\tbest: 0.6368707 (2964)\ttotal: 3m 35s\tremaining: 1h 56m 15s\n",
      "4000:\tlearn: 0.6781434\ttest: 0.6370331\tbest: 0.6370728 (3358)\ttotal: 4m 40s\tremaining: 1h 51m 59s\n",
      "5000:\tlearn: 0.6851138\ttest: 0.6373260\tbest: 0.6373337 (4983)\ttotal: 5m 44s\tremaining: 1h 49m 11s\n",
      "6000:\tlearn: 0.6913251\ttest: 0.6371907\tbest: 0.6373663 (5044)\ttotal: 6m 48s\tremaining: 1h 46m 39s\n",
      "7000:\tlearn: 0.6973095\ttest: 0.6370029\tbest: 0.6373663 (5044)\ttotal: 7m 53s\tremaining: 1h 44m 46s\n",
      "bestTest = 0.6373662949\n",
      "bestIteration = 5044\n",
      "Shrink model to first 5045 iterations.\n",
      "best score {'learn': {'Logloss': 0.3992965493627996, 'AUC': 0.6975526213645935}, 'validation': {'Logloss': 0.4177736674962149, 'AUC': 0.6373662948608398}}\n",
      "best_iteration 5044\n",
      "Folder 3\n",
      "0:\tlearn: 0.6152123\ttest: 0.6149174\tbest: 0.6149174 (0)\ttotal: 65.6ms\tremaining: 1h 49m 22s\n",
      "1000:\tlearn: 0.6504021\ttest: 0.6364851\tbest: 0.6364851 (1000)\ttotal: 1m 8s\tremaining: 1h 53m 7s\n",
      "2000:\tlearn: 0.6622713\ttest: 0.6375856\tbest: 0.6376020 (1985)\ttotal: 2m 18s\tremaining: 1h 52m 53s\n",
      "3000:\tlearn: 0.6713355\ttest: 0.6381385\tbest: 0.6381619 (2988)\ttotal: 3m 23s\tremaining: 1h 49m 42s\n",
      "4000:\tlearn: 0.6792732\ttest: 0.6384680\tbest: 0.6384800 (3995)\ttotal: 4m 26s\tremaining: 1h 46m 42s\n",
      "5000:\tlearn: 0.6864821\ttest: 0.6386095\tbest: 0.6387641 (4604)\ttotal: 5m 30s\tremaining: 1h 44m 31s\n",
      "6000:\tlearn: 0.6929931\ttest: 0.6383421\tbest: 0.6387641 (4604)\ttotal: 6m 33s\tremaining: 1h 42m 45s\n",
      "bestTest = 0.6387640834\n",
      "bestIteration = 4604\n",
      "Shrink model to first 4605 iterations.\n",
      "best score {'learn': {'Logloss': 0.39950780283588216, 'AUC': 0.696682870388031}, 'validation': {'Logloss': 0.41733210333452797, 'AUC': 0.6387640833854675}}\n",
      "best_iteration 4604\n",
      "Folder 4\n",
      "0:\tlearn: 0.6149678\ttest: 0.6158514\tbest: 0.6158514 (0)\ttotal: 59.5ms\tremaining: 1h 39m 12s\n",
      "1000:\tlearn: 0.6494175\ttest: 0.6379061\tbest: 0.6379061 (1000)\ttotal: 1m 1s\tremaining: 1h 41m 29s\n",
      "2000:\tlearn: 0.6611799\ttest: 0.6395838\tbest: 0.6395853 (1999)\ttotal: 2m 4s\tremaining: 1h 41m 57s\n",
      "3000:\tlearn: 0.6707685\ttest: 0.6400091\tbest: 0.6401251 (2935)\ttotal: 3m 8s\tremaining: 1h 41m 39s\n",
      "4000:\tlearn: 0.6789577\ttest: 0.6401441\tbest: 0.6403234 (3712)\ttotal: 4m 16s\tremaining: 1h 42m 25s\n",
      "5000:\tlearn: 0.6860198\ttest: 0.6400709\tbest: 0.6403234 (3712)\ttotal: 5m 24s\tremaining: 1h 42m 43s\n",
      "bestTest = 0.6403233707\n",
      "bestIteration = 3712\n",
      "Shrink model to first 3713 iterations.\n",
      "best score {'learn': {'Logloss': 0.40171527877458585, 'AUC': 0.6904636323451996}, 'validation': {'Logloss': 0.41687896793469914, 'AUC': 0.6403233706951141}}\n",
      "best_iteration 3712\n",
      "0.6386199394763316\n"
     ]
    }
   ],
   "source": [
    "for i, (train_idx, valid_idx) in enumerate(splits):\n",
    "    print('Folder', i)\n",
    "    x_tr, y_tr = train_df.iloc[train_idx], train_target.iloc[train_idx]\n",
    "    x_valid, y_valid = train_df.iloc[valid_idx], train_target.iloc[valid_idx]\n",
    "    \n",
    "    # x_tr, y_tr = augment(x_tr, y_tr, cols)\n",
    "    num_round = 100000  \n",
    "    clf = cat.CatBoostClassifier(iterations=num_round, depth=7,\\\n",
    "                                 l2_leaf_reg=4, learning_rate=0.1, verbose=1000, \\\n",
    "                                 loss_function='Logloss', eval_metric='AUC', \\\n",
    "                                early_stopping_rounds=2000, random_seed=random_state, \\\n",
    "                                task_type='GPU', devices='2',\\\n",
    "                                 cat_features=sparse_features,\\\n",
    "                                 bootstrap_type='Poisson', subsample=0.99)\n",
    "    \n",
    "    clf.fit(x_tr, y_tr, eval_set=cat.Pool(x_valid, y_valid, cat_features=sparse_features))\n",
    "    \n",
    "    print(f'best score {clf.get_best_score()}')\n",
    "    print(f'best_iteration {clf.get_best_iteration()}')\n",
    "    oof[valid_idx] = clf.predict_proba(x_valid)[:, 1]\n",
    "    predictions += clf.predict_proba(test_df)[:, 1] / n_splits\n",
    "    del x_tr\n",
    "    del y_tr\n",
    "    \n",
    "print(metrics.roc_auc_score(train_target.values, oof))"
   ]
  },
  {
   "cell_type": "code",
   "execution_count": 22,
   "metadata": {},
   "outputs": [],
   "source": [
    "# 0.6386233616870445\n",
    "trd_feature_test_pred = pd.DataFrame({'id': test_id, 'trd_pred': predictions})\n",
    "trd_feature_train_pred = pd.DataFrame({'id': train_id, 'trd_pred': oof})"
   ]
  },
  {
   "cell_type": "code",
   "execution_count": 23,
   "metadata": {},
   "outputs": [],
   "source": [
    "table = trd_feature_train_pred.groupby('id').max()\n",
    "\n",
    "trd_train_pred = pd.DataFrame({'id': table.index, 'trd_pred': table.trd_pred})\n",
    "\n",
    "ttable = trd_feature_test_pred.groupby('id').max()\n",
    "\n",
    "trd_test_pred = pd.DataFrame({'id': ttable.index, 'trd_pred': ttable.trd_pred})\n",
    "\n",
    "trd_train_pred.to_csv('data/trd_feature_train_pred_cat.csv', index = False)\n",
    "trd_test_pred.to_csv('data/trd_feature_test_pred_cat.csv', index = False)"
   ]
  },
  {
   "cell_type": "code",
   "execution_count": 24,
   "metadata": {},
   "outputs": [],
   "source": [
    "table = trd_feature_train_pred.groupby('id').mean()\n",
    "trd_train_pred = pd.DataFrame({'id': table.index, 'trd_pred_mean': table.trd_pred})\n",
    "\n",
    "ttable = trd_feature_test_pred.groupby('id').mean()\n",
    "trd_test_pred = pd.DataFrame({'id': ttable.index, 'trd_pred_mean': ttable.trd_pred})\n",
    "\n",
    "trd_train_pred.to_csv('data/trd_feature_train_pred_mean_cat.csv', index = False)\n",
    "trd_test_pred.to_csv('data/trd_feature_test_pred_mean_cat.csv', index = False)"
   ]
  },
  {
   "cell_type": "code",
   "execution_count": 25,
   "metadata": {},
   "outputs": [],
   "source": [
    "table = trd_feature_train_pred.groupby('id').sum()\n",
    "trd_train_pred = pd.DataFrame({'id': table.index, 'trd_pred_sum': table.trd_pred})\n",
    "\n",
    "ttable = trd_feature_test_pred.groupby('id').sum()\n",
    "trd_test_pred = pd.DataFrame({'id': ttable.index, 'trd_pred_sum': ttable.trd_pred})\n",
    "\n",
    "trd_train_pred.to_csv('data/trd_feature_train_pred_sum_cat.csv', index = False)\n",
    "trd_test_pred.to_csv('data/trd_feature_test_pred_sum_cat.csv', index = False)"
   ]
  },
  {
   "cell_type": "code",
   "execution_count": null,
   "metadata": {},
   "outputs": [],
   "source": []
  }
 ],
 "metadata": {
  "kernelspec": {
   "display_name": "Python 3",
   "language": "python",
   "name": "python3"
  },
  "language_info": {
   "codemirror_mode": {
    "name": "ipython",
    "version": 3
   },
   "file_extension": ".py",
   "mimetype": "text/x-python",
   "name": "python",
   "nbconvert_exporter": "python",
   "pygments_lexer": "ipython3",
   "version": "3.7.5"
  }
 },
 "nbformat": 4,
 "nbformat_minor": 2
}
