{
 "cells": [
  {
   "cell_type": "code",
   "execution_count": 1,
   "metadata": {},
   "outputs": [],
   "source": [
    "import numpy as np\n",
    "import pandas as pd\n",
    "import catboost as cat\n",
    "from sklearn.model_selection import StratifiedKFold\n",
    "from sklearn import metrics\n",
    "from sklearn.preprocessing import LabelEncoder\n",
    " \n",
    "pd.set_option('precision', 5)\n",
    "pd.set_option('display.float_format', lambda x: '%.5f' % x) \n",
    "pd.options.display.max_rows = 200"
   ]
  },
  {
   "cell_type": "code",
   "execution_count": 2,
   "metadata": {},
   "outputs": [
    {
     "name": "stdout",
     "output_type": "stream",
     "text": [
      "(934282, 5)\n",
      "(95669, 4)\n"
     ]
    }
   ],
   "source": [
    "train_df = pd.read_csv('data/train/train_beh.csv')\n",
    "test_df = pd.read_csv('data/test/test_beh_b.csv')\n",
    "print(train_df.shape)\n",
    "print(test_df.shape)"
   ]
  },
  {
   "cell_type": "code",
   "execution_count": 3,
   "metadata": {},
   "outputs": [
    {
     "data": {
      "text/html": [
       "<div>\n",
       "<style scoped>\n",
       "    .dataframe tbody tr th:only-of-type {\n",
       "        vertical-align: middle;\n",
       "    }\n",
       "\n",
       "    .dataframe tbody tr th {\n",
       "        vertical-align: top;\n",
       "    }\n",
       "\n",
       "    .dataframe thead th {\n",
       "        text-align: right;\n",
       "    }\n",
       "</style>\n",
       "<table border=\"1\" class=\"dataframe\">\n",
       "  <thead>\n",
       "    <tr style=\"text-align: right;\">\n",
       "      <th></th>\n",
       "      <th>id</th>\n",
       "      <th>flag</th>\n",
       "      <th>page_no</th>\n",
       "      <th>Unnamed: 3</th>\n",
       "      <th>page_tm</th>\n",
       "    </tr>\n",
       "  </thead>\n",
       "  <tbody>\n",
       "    <tr>\n",
       "      <th>0</th>\n",
       "      <td>U64F0C9</td>\n",
       "      <td>0</td>\n",
       "      <td>SZA</td>\n",
       "      <td>2019-06-30 12:44:27</td>\n",
       "      <td>nan</td>\n",
       "    </tr>\n",
       "    <tr>\n",
       "      <th>1</th>\n",
       "      <td>U64F0C9</td>\n",
       "      <td>0</td>\n",
       "      <td>CQE</td>\n",
       "      <td>2019-06-25 16:15:11</td>\n",
       "      <td>nan</td>\n",
       "    </tr>\n",
       "    <tr>\n",
       "      <th>2</th>\n",
       "      <td>U64F0C9</td>\n",
       "      <td>0</td>\n",
       "      <td>AAO</td>\n",
       "      <td>2019-06-30 12:44:17</td>\n",
       "      <td>nan</td>\n",
       "    </tr>\n",
       "    <tr>\n",
       "      <th>3</th>\n",
       "      <td>U64F0C9</td>\n",
       "      <td>0</td>\n",
       "      <td>CQE</td>\n",
       "      <td>2019-06-17 13:50:12</td>\n",
       "      <td>nan</td>\n",
       "    </tr>\n",
       "    <tr>\n",
       "      <th>4</th>\n",
       "      <td>U64F0C9</td>\n",
       "      <td>0</td>\n",
       "      <td>AAO</td>\n",
       "      <td>2019-06-17 13:50:08</td>\n",
       "      <td>nan</td>\n",
       "    </tr>\n",
       "  </tbody>\n",
       "</table>\n",
       "</div>"
      ],
      "text/plain": [
       "        id  flag page_no           Unnamed: 3  page_tm\n",
       "0  U64F0C9     0     SZA  2019-06-30 12:44:27      nan\n",
       "1  U64F0C9     0     CQE  2019-06-25 16:15:11      nan\n",
       "2  U64F0C9     0     AAO  2019-06-30 12:44:17      nan\n",
       "3  U64F0C9     0     CQE  2019-06-17 13:50:12      nan\n",
       "4  U64F0C9     0     AAO  2019-06-17 13:50:08      nan"
      ]
     },
     "execution_count": 3,
     "metadata": {},
     "output_type": "execute_result"
    }
   ],
   "source": [
    "train_df.head(5)"
   ]
  },
  {
   "cell_type": "code",
   "execution_count": 4,
   "metadata": {},
   "outputs": [
    {
     "data": {
      "text/html": [
       "<div>\n",
       "<style scoped>\n",
       "    .dataframe tbody tr th:only-of-type {\n",
       "        vertical-align: middle;\n",
       "    }\n",
       "\n",
       "    .dataframe tbody tr th {\n",
       "        vertical-align: top;\n",
       "    }\n",
       "\n",
       "    .dataframe thead th {\n",
       "        text-align: right;\n",
       "    }\n",
       "</style>\n",
       "<table border=\"1\" class=\"dataframe\">\n",
       "  <thead>\n",
       "    <tr style=\"text-align: right;\">\n",
       "      <th></th>\n",
       "      <th>id</th>\n",
       "      <th>page_no</th>\n",
       "      <th>Unnamed: 2</th>\n",
       "      <th>page_tm</th>\n",
       "    </tr>\n",
       "  </thead>\n",
       "  <tbody>\n",
       "    <tr>\n",
       "      <th>0</th>\n",
       "      <td>U441F8F</td>\n",
       "      <td>CQA</td>\n",
       "      <td>2019-06-11 22:27:25</td>\n",
       "      <td>nan</td>\n",
       "    </tr>\n",
       "    <tr>\n",
       "      <th>1</th>\n",
       "      <td>U441F8F</td>\n",
       "      <td>XAI</td>\n",
       "      <td>2019-06-17 17:42:39</td>\n",
       "      <td>nan</td>\n",
       "    </tr>\n",
       "    <tr>\n",
       "      <th>2</th>\n",
       "      <td>U441F8F</td>\n",
       "      <td>CQA</td>\n",
       "      <td>2019-06-17 17:42:02</td>\n",
       "      <td>nan</td>\n",
       "    </tr>\n",
       "    <tr>\n",
       "      <th>3</th>\n",
       "      <td>U441F8F</td>\n",
       "      <td>XAI</td>\n",
       "      <td>2019-06-17 17:42:35</td>\n",
       "      <td>nan</td>\n",
       "    </tr>\n",
       "    <tr>\n",
       "      <th>4</th>\n",
       "      <td>U441F8F</td>\n",
       "      <td>CQE</td>\n",
       "      <td>2019-06-17 17:42:49</td>\n",
       "      <td>nan</td>\n",
       "    </tr>\n",
       "  </tbody>\n",
       "</table>\n",
       "</div>"
      ],
      "text/plain": [
       "        id page_no           Unnamed: 2  page_tm\n",
       "0  U441F8F     CQA  2019-06-11 22:27:25      nan\n",
       "1  U441F8F     XAI  2019-06-17 17:42:39      nan\n",
       "2  U441F8F     CQA  2019-06-17 17:42:02      nan\n",
       "3  U441F8F     XAI  2019-06-17 17:42:35      nan\n",
       "4  U441F8F     CQE  2019-06-17 17:42:49      nan"
      ]
     },
     "execution_count": 4,
     "metadata": {},
     "output_type": "execute_result"
    }
   ],
   "source": [
    "test_df.head(5)"
   ]
  },
  {
   "cell_type": "code",
   "execution_count": 5,
   "metadata": {},
   "outputs": [
    {
     "data": {
      "text/html": [
       "<div>\n",
       "<style scoped>\n",
       "    .dataframe tbody tr th:only-of-type {\n",
       "        vertical-align: middle;\n",
       "    }\n",
       "\n",
       "    .dataframe tbody tr th {\n",
       "        vertical-align: top;\n",
       "    }\n",
       "\n",
       "    .dataframe thead th {\n",
       "        text-align: right;\n",
       "    }\n",
       "</style>\n",
       "<table border=\"1\" class=\"dataframe\">\n",
       "  <thead>\n",
       "    <tr style=\"text-align: right;\">\n",
       "      <th></th>\n",
       "      <th>id</th>\n",
       "      <th>flag</th>\n",
       "      <th>page_no</th>\n",
       "      <th>Unnamed: 3</th>\n",
       "      <th>page_tm</th>\n",
       "    </tr>\n",
       "  </thead>\n",
       "  <tbody>\n",
       "    <tr>\n",
       "      <th>count</th>\n",
       "      <td>934282</td>\n",
       "      <td>934282.00000</td>\n",
       "      <td>934282</td>\n",
       "      <td>934282</td>\n",
       "      <td>0.00000</td>\n",
       "    </tr>\n",
       "    <tr>\n",
       "      <th>unique</th>\n",
       "      <td>11913</td>\n",
       "      <td>nan</td>\n",
       "      <td>29</td>\n",
       "      <td>690024</td>\n",
       "      <td>nan</td>\n",
       "    </tr>\n",
       "    <tr>\n",
       "      <th>top</th>\n",
       "      <td>U0015B2</td>\n",
       "      <td>nan</td>\n",
       "      <td>CQA</td>\n",
       "      <td>2019-06-26 13:35:04</td>\n",
       "      <td>nan</td>\n",
       "    </tr>\n",
       "    <tr>\n",
       "      <th>freq</th>\n",
       "      <td>3617</td>\n",
       "      <td>nan</td>\n",
       "      <td>337400</td>\n",
       "      <td>9</td>\n",
       "      <td>nan</td>\n",
       "    </tr>\n",
       "    <tr>\n",
       "      <th>mean</th>\n",
       "      <td>NaN</td>\n",
       "      <td>0.15059</td>\n",
       "      <td>NaN</td>\n",
       "      <td>NaN</td>\n",
       "      <td>nan</td>\n",
       "    </tr>\n",
       "    <tr>\n",
       "      <th>std</th>\n",
       "      <td>NaN</td>\n",
       "      <td>0.35765</td>\n",
       "      <td>NaN</td>\n",
       "      <td>NaN</td>\n",
       "      <td>nan</td>\n",
       "    </tr>\n",
       "    <tr>\n",
       "      <th>min</th>\n",
       "      <td>NaN</td>\n",
       "      <td>0.00000</td>\n",
       "      <td>NaN</td>\n",
       "      <td>NaN</td>\n",
       "      <td>nan</td>\n",
       "    </tr>\n",
       "    <tr>\n",
       "      <th>25%</th>\n",
       "      <td>NaN</td>\n",
       "      <td>0.00000</td>\n",
       "      <td>NaN</td>\n",
       "      <td>NaN</td>\n",
       "      <td>nan</td>\n",
       "    </tr>\n",
       "    <tr>\n",
       "      <th>50%</th>\n",
       "      <td>NaN</td>\n",
       "      <td>0.00000</td>\n",
       "      <td>NaN</td>\n",
       "      <td>NaN</td>\n",
       "      <td>nan</td>\n",
       "    </tr>\n",
       "    <tr>\n",
       "      <th>75%</th>\n",
       "      <td>NaN</td>\n",
       "      <td>0.00000</td>\n",
       "      <td>NaN</td>\n",
       "      <td>NaN</td>\n",
       "      <td>nan</td>\n",
       "    </tr>\n",
       "    <tr>\n",
       "      <th>max</th>\n",
       "      <td>NaN</td>\n",
       "      <td>1.00000</td>\n",
       "      <td>NaN</td>\n",
       "      <td>NaN</td>\n",
       "      <td>nan</td>\n",
       "    </tr>\n",
       "  </tbody>\n",
       "</table>\n",
       "</div>"
      ],
      "text/plain": [
       "             id         flag page_no           Unnamed: 3  page_tm\n",
       "count    934282 934282.00000  934282               934282  0.00000\n",
       "unique    11913          nan      29               690024      nan\n",
       "top     U0015B2          nan     CQA  2019-06-26 13:35:04      nan\n",
       "freq       3617          nan  337400                    9      nan\n",
       "mean        NaN      0.15059     NaN                  NaN      nan\n",
       "std         NaN      0.35765     NaN                  NaN      nan\n",
       "min         NaN      0.00000     NaN                  NaN      nan\n",
       "25%         NaN      0.00000     NaN                  NaN      nan\n",
       "50%         NaN      0.00000     NaN                  NaN      nan\n",
       "75%         NaN      0.00000     NaN                  NaN      nan\n",
       "max         NaN      1.00000     NaN                  NaN      nan"
      ]
     },
     "execution_count": 5,
     "metadata": {},
     "output_type": "execute_result"
    }
   ],
   "source": [
    "train_df.describe(include='all')"
   ]
  },
  {
   "cell_type": "code",
   "execution_count": 6,
   "metadata": {},
   "outputs": [],
   "source": [
    "train_target = train_df['flag']\n",
    "test_id = test_df['id']\n",
    "train_df.drop(['flag','id', 'page_tm'], axis = 1, inplace=True)\n",
    "test_df.drop(['id', 'page_tm'], axis = 1, inplace=True)"
   ]
  },
  {
   "cell_type": "code",
   "execution_count": 7,
   "metadata": {},
   "outputs": [
    {
     "name": "stdout",
     "output_type": "stream",
     "text": [
      "(934282, 2)\n",
      "(95669, 2)\n"
     ]
    }
   ],
   "source": [
    "print(train_df.shape)\n",
    "print(test_df.shape)"
   ]
  },
  {
   "cell_type": "code",
   "execution_count": 8,
   "metadata": {},
   "outputs": [
    {
     "data": {
      "text/plain": [
       "Index(['page_no', 'Unnamed: 3'], dtype='object')"
      ]
     },
     "execution_count": 8,
     "metadata": {},
     "output_type": "execute_result"
    }
   ],
   "source": [
    "train_df.columns"
   ]
  },
  {
   "cell_type": "code",
   "execution_count": 9,
   "metadata": {},
   "outputs": [
    {
     "data": {
      "text/plain": [
       "page_no       0\n",
       "Unnamed: 2    0\n",
       "dtype: int64"
      ]
     },
     "execution_count": 9,
     "metadata": {},
     "output_type": "execute_result"
    }
   ],
   "source": [
    "test_df.isnull().sum()"
   ]
  },
  {
   "cell_type": "code",
   "execution_count": 10,
   "metadata": {},
   "outputs": [
    {
     "data": {
      "text/plain": [
       "datetime.datetime(2020, 5, 10, 12, 51, 58, 322797)"
      ]
     },
     "execution_count": 10,
     "metadata": {},
     "output_type": "execute_result"
    }
   ],
   "source": [
    "# 时间转换为秒数\n",
    "from datetime import datetime\n",
    "from datetime import timedelta\n",
    "now = datetime.now()\n",
    "now"
   ]
  },
  {
   "cell_type": "code",
   "execution_count": 11,
   "metadata": {},
   "outputs": [],
   "source": [
    "delta = (now - pd.to_datetime(train_df['Unnamed: 3'])).dt"
   ]
  },
  {
   "cell_type": "code",
   "execution_count": 12,
   "metadata": {},
   "outputs": [],
   "source": [
    "train_df['tm_sec'] = delta.days * 24 * 60 * 60 + delta.seconds\n",
    "train_df['tm_day'] = delta.days"
   ]
  },
  {
   "cell_type": "code",
   "execution_count": 13,
   "metadata": {},
   "outputs": [],
   "source": [
    "delta = (now - pd.to_datetime(test_df['Unnamed: 2'])).dt\n",
    "test_df['tm_sec'] = delta.days * 24 * 60 * 60 + delta.seconds\n",
    "test_df['tm_day'] = delta.days"
   ]
  },
  {
   "cell_type": "code",
   "execution_count": 14,
   "metadata": {},
   "outputs": [
    {
     "data": {
      "text/html": [
       "<div>\n",
       "<style scoped>\n",
       "    .dataframe tbody tr th:only-of-type {\n",
       "        vertical-align: middle;\n",
       "    }\n",
       "\n",
       "    .dataframe tbody tr th {\n",
       "        vertical-align: top;\n",
       "    }\n",
       "\n",
       "    .dataframe thead th {\n",
       "        text-align: right;\n",
       "    }\n",
       "</style>\n",
       "<table border=\"1\" class=\"dataframe\">\n",
       "  <thead>\n",
       "    <tr style=\"text-align: right;\">\n",
       "      <th></th>\n",
       "      <th>page_no</th>\n",
       "      <th>Unnamed: 2</th>\n",
       "      <th>tm_sec</th>\n",
       "      <th>tm_day</th>\n",
       "    </tr>\n",
       "  </thead>\n",
       "  <tbody>\n",
       "    <tr>\n",
       "      <th>count</th>\n",
       "      <td>95669</td>\n",
       "      <td>95669</td>\n",
       "      <td>95669.00000</td>\n",
       "      <td>95669.00000</td>\n",
       "    </tr>\n",
       "    <tr>\n",
       "      <th>unique</th>\n",
       "      <td>29</td>\n",
       "      <td>85223</td>\n",
       "      <td>nan</td>\n",
       "      <td>nan</td>\n",
       "    </tr>\n",
       "    <tr>\n",
       "      <th>top</th>\n",
       "      <td>CQA</td>\n",
       "      <td>2019-06-14 16:45:53</td>\n",
       "      <td>nan</td>\n",
       "      <td>nan</td>\n",
       "    </tr>\n",
       "    <tr>\n",
       "      <th>freq</th>\n",
       "      <td>34735</td>\n",
       "      <td>6</td>\n",
       "      <td>nan</td>\n",
       "      <td>nan</td>\n",
       "    </tr>\n",
       "    <tr>\n",
       "      <th>mean</th>\n",
       "      <td>NaN</td>\n",
       "      <td>NaN</td>\n",
       "      <td>28433695.42368</td>\n",
       "      <td>328.54768</td>\n",
       "    </tr>\n",
       "    <tr>\n",
       "      <th>std</th>\n",
       "      <td>NaN</td>\n",
       "      <td>NaN</td>\n",
       "      <td>742420.61881</td>\n",
       "      <td>8.60665</td>\n",
       "    </tr>\n",
       "    <tr>\n",
       "      <th>min</th>\n",
       "      <td>NaN</td>\n",
       "      <td>NaN</td>\n",
       "      <td>27175950.00000</td>\n",
       "      <td>314.00000</td>\n",
       "    </tr>\n",
       "    <tr>\n",
       "      <th>25%</th>\n",
       "      <td>NaN</td>\n",
       "      <td>NaN</td>\n",
       "      <td>27752387.00000</td>\n",
       "      <td>321.00000</td>\n",
       "    </tr>\n",
       "    <tr>\n",
       "      <th>50%</th>\n",
       "      <td>NaN</td>\n",
       "      <td>NaN</td>\n",
       "      <td>28414145.00000</td>\n",
       "      <td>328.00000</td>\n",
       "    </tr>\n",
       "    <tr>\n",
       "      <th>75%</th>\n",
       "      <td>NaN</td>\n",
       "      <td>NaN</td>\n",
       "      <td>29055519.00000</td>\n",
       "      <td>336.00000</td>\n",
       "    </tr>\n",
       "    <tr>\n",
       "      <th>max</th>\n",
       "      <td>NaN</td>\n",
       "      <td>NaN</td>\n",
       "      <td>29767826.00000</td>\n",
       "      <td>344.00000</td>\n",
       "    </tr>\n",
       "  </tbody>\n",
       "</table>\n",
       "</div>"
      ],
      "text/plain": [
       "       page_no           Unnamed: 2         tm_sec      tm_day\n",
       "count    95669                95669    95669.00000 95669.00000\n",
       "unique      29                85223            nan         nan\n",
       "top        CQA  2019-06-14 16:45:53            nan         nan\n",
       "freq     34735                    6            nan         nan\n",
       "mean       NaN                  NaN 28433695.42368   328.54768\n",
       "std        NaN                  NaN   742420.61881     8.60665\n",
       "min        NaN                  NaN 27175950.00000   314.00000\n",
       "25%        NaN                  NaN 27752387.00000   321.00000\n",
       "50%        NaN                  NaN 28414145.00000   328.00000\n",
       "75%        NaN                  NaN 29055519.00000   336.00000\n",
       "max        NaN                  NaN 29767826.00000   344.00000"
      ]
     },
     "execution_count": 14,
     "metadata": {},
     "output_type": "execute_result"
    }
   ],
   "source": [
    "test_df.describe(include = 'all')"
   ]
  },
  {
   "cell_type": "code",
   "execution_count": 15,
   "metadata": {},
   "outputs": [],
   "source": [
    "train_df.drop(['Unnamed: 3'], axis = 1, inplace=True)\n",
    "test_df.drop(['Unnamed: 2'], axis = 1, inplace=True)"
   ]
  },
  {
   "cell_type": "code",
   "execution_count": 16,
   "metadata": {},
   "outputs": [],
   "source": [
    "n_splits = 5\n",
    "random_state = 2000\n",
    "# np.random.seed(random_state)\n",
    "splits = list(StratifiedKFold(n_splits=n_splits, shuffle=True, random_state=random_state).split(train_df, train_target))\n",
    "\n",
    "cols = list(train_df.columns)\n",
    "sparse_features = ['page_no']\n",
    "\n",
    "feature_importance_df = pd.DataFrame()\n",
    "oof = np.zeros(len(train_df))\n",
    "predictions = np.zeros(len(test_df))"
   ]
  },
  {
   "cell_type": "code",
   "execution_count": 17,
   "metadata": {
    "scrolled": true
   },
   "outputs": [
    {
     "name": "stdout",
     "output_type": "stream",
     "text": [
      "Folder 0\n",
      "0:\tlearn: 0.5299682\ttest: 0.5299339\tbest: 0.5299339 (0)\ttotal: 34.1ms\tremaining: 56m 47s\n",
      "1000:\tlearn: 0.5805946\ttest: 0.5573977\tbest: 0.5574389 (997)\ttotal: 33.9s\tremaining: 55m 55s\n",
      "2000:\tlearn: 0.5929674\ttest: 0.5587432\tbest: 0.5587453 (1999)\ttotal: 1m 7s\tremaining: 55m 21s\n",
      "3000:\tlearn: 0.6022959\ttest: 0.5593033\tbest: 0.5593932 (2600)\ttotal: 1m 41s\tremaining: 54m 49s\n",
      "4000:\tlearn: 0.6100204\ttest: 0.5593918\tbest: 0.5594115 (3122)\ttotal: 2m 16s\tremaining: 54m 23s\n",
      "5000:\tlearn: 0.6162933\ttest: 0.5592768\tbest: 0.5594990 (4120)\ttotal: 2m 50s\tremaining: 53m 54s\n",
      "6000:\tlearn: 0.6219206\ttest: 0.5590261\tbest: 0.5594990 (4120)\ttotal: 3m 24s\tremaining: 53m 19s\n",
      "bestTest = 0.5594989657\n",
      "bestIteration = 4120\n",
      "Shrink model to first 4121 iterations.\n",
      "best score {'learn': {'Logloss': 0.4081622319965214, 'AUC': 0.6226595938205719}, 'validation': {'Logloss': 0.41997448249195907, 'AUC': 0.5594989657402039}}\n",
      "best_iteration 4120\n",
      "Folder 1\n",
      "0:\tlearn: 0.5290775\ttest: 0.5272362\tbest: 0.5272362 (0)\ttotal: 40.7ms\tremaining: 1h 7m 53s\n",
      "1000:\tlearn: 0.5790657\ttest: 0.5577776\tbest: 0.5577776 (1000)\ttotal: 34.2s\tremaining: 56m 21s\n",
      "2000:\tlearn: 0.5917679\ttest: 0.5592850\tbest: 0.5593346 (1977)\ttotal: 1m 8s\tremaining: 55m 42s\n",
      "3000:\tlearn: 0.6010636\ttest: 0.5595318\tbest: 0.5595615 (2553)\ttotal: 1m 42s\tremaining: 55m 6s\n",
      "4000:\tlearn: 0.6082914\ttest: 0.5598854\tbest: 0.5598939 (3994)\ttotal: 2m 16s\tremaining: 54m 30s\n",
      "5000:\tlearn: 0.6144821\ttest: 0.5599645\tbest: 0.5601273 (4456)\ttotal: 3m 29s\tremaining: 1h 6m 17s\n",
      "6000:\tlearn: 0.6200499\ttest: 0.5597629\tbest: 0.5601273 (4456)\ttotal: 4m 3s\tremaining: 1h 3m 35s\n",
      "bestTest = 0.5601272583\n",
      "bestIteration = 4456\n",
      "Shrink model to first 4457 iterations.\n",
      "best score {'learn': {'Logloss': 0.408166663879319, 'AUC': 0.622452974319458}, 'validation': {'Logloss': 0.4200280829725405, 'AUC': 0.5601272583007812}}\n",
      "best_iteration 4456\n",
      "Folder 2\n",
      "0:\tlearn: 0.5277370\ttest: 0.5257785\tbest: 0.5257785 (0)\ttotal: 34.7ms\tremaining: 57m 53s\n",
      "1000:\tlearn: 0.5791442\ttest: 0.5569900\tbest: 0.5569966 (975)\ttotal: 33.8s\tremaining: 55m 44s\n",
      "2000:\tlearn: 0.5924088\ttest: 0.5592670\tbest: 0.5593418 (1906)\ttotal: 1m 13s\tremaining: 59m 46s\n",
      "3000:\tlearn: 0.6021257\ttest: 0.5598238\tbest: 0.5599547 (2724)\ttotal: 1m 54s\tremaining: 1h 1m 54s\n",
      "4000:\tlearn: 0.6095788\ttest: 0.5596743\tbest: 0.5599547 (2724)\ttotal: 2m 35s\tremaining: 1h 2m 15s\n",
      "bestTest = 0.5599546731\n",
      "bestIteration = 2724\n",
      "Shrink model to first 2725 iterations.\n",
      "best score {'learn': {'Logloss': 0.41014035168698976, 'AUC': 0.6144242286682129}, 'validation': {'Logloss': 0.4200643225933339, 'AUC': 0.5599546730518341}}\n",
      "best_iteration 2724\n",
      "Folder 3\n",
      "0:\tlearn: 0.5243327\ttest: 0.5288508\tbest: 0.5288508 (0)\ttotal: 39.1ms\tremaining: 1h 5m 6s\n",
      "1000:\tlearn: 0.5795158\ttest: 0.5620720\tbest: 0.5620720 (1000)\ttotal: 40.8s\tremaining: 1h 7m 11s\n",
      "2000:\tlearn: 0.5931356\ttest: 0.5639462\tbest: 0.5639522 (1998)\ttotal: 1m 21s\tremaining: 1h 6m 8s\n",
      "3000:\tlearn: 0.6029619\ttest: 0.5639866\tbest: 0.5642267 (2144)\ttotal: 2m\tremaining: 1h 5m 9s\n",
      "4000:\tlearn: 0.6106070\ttest: 0.5636410\tbest: 0.5642267 (2144)\ttotal: 2m 41s\tremaining: 1h 4m 40s\n",
      "bestTest = 0.5642266572\n",
      "bestIteration = 2144\n",
      "Shrink model to first 2145 iterations.\n",
      "best score {'learn': {'Logloss': 0.410878342805843, 'AUC': 0.6115452349185944}, 'validation': {'Logloss': 0.4196893262726378, 'AUC': 0.5642266571521759}}\n",
      "best_iteration 2144\n",
      "Folder 4\n",
      "0:\tlearn: 0.5273386\ttest: 0.5258265\tbest: 0.5258265 (0)\ttotal: 54.6ms\tremaining: 1h 30m 57s\n",
      "1000:\tlearn: 0.5795457\ttest: 0.5575099\tbest: 0.5575126 (999)\ttotal: 41s\tremaining: 1h 7m 36s\n",
      "2000:\tlearn: 0.5935541\ttest: 0.5595326\tbest: 0.5595388 (1982)\ttotal: 1m 20s\tremaining: 1h 5m 55s\n",
      "3000:\tlearn: 0.6029887\ttest: 0.5598510\tbest: 0.5599623 (2822)\ttotal: 2m 33s\tremaining: 1h 22m 42s\n",
      "4000:\tlearn: 0.6107505\ttest: 0.5599578\tbest: 0.5600295 (3302)\ttotal: 3m 22s\tremaining: 1h 20m 54s\n",
      "5000:\tlearn: 0.6174591\ttest: 0.5597128\tbest: 0.5600670 (4042)\ttotal: 4m 3s\tremaining: 1h 17m 4s\n",
      "6000:\tlearn: 0.6232651\ttest: 0.5593720\tbest: 0.5600670 (4042)\ttotal: 4m 44s\tremaining: 1h 14m 13s\n",
      "bestTest = 0.5600669682\n",
      "bestIteration = 4042\n",
      "Shrink model to first 4043 iterations.\n",
      "best score {'learn': {'Logloss': 0.4079594919764632, 'AUC': 0.6235115230083466}, 'validation': {'Logloss': 0.41983871437095943, 'AUC': 0.5600669682025909}}\n",
      "best_iteration 4042\n",
      "0.560677592200964\n"
     ]
    }
   ],
   "source": [
    "for i, (train_idx, valid_idx) in enumerate(splits):\n",
    "    print('Folder', i)\n",
    "    x_tr, y_tr = train_df.iloc[train_idx], train_target.iloc[train_idx]\n",
    "    x_valid, y_valid = train_df.iloc[valid_idx], train_target.iloc[valid_idx]\n",
    "    \n",
    "    # x_tr, y_tr = augment(x_tr, y_tr, cols)\n",
    "    num_round = 100000  \n",
    "    clf = cat.CatBoostClassifier(iterations=num_round, depth=7,\\\n",
    "                                 l2_leaf_reg=4, learning_rate=0.1, verbose=1000, \\\n",
    "                                 loss_function='Logloss', eval_metric='AUC', \\\n",
    "                                early_stopping_rounds=2000, random_seed=random_state, \\\n",
    "                                task_type='GPU', devices='1',\\\n",
    "                                 cat_features=sparse_features,\\\n",
    "                                 bootstrap_type='Poisson', subsample=0.99)\n",
    "    \n",
    "    clf.fit(x_tr, y_tr, eval_set=cat.Pool(x_valid, y_valid, cat_features=sparse_features))\n",
    "    \n",
    "    print(f'best score {clf.get_best_score()}')\n",
    "    print(f'best_iteration {clf.get_best_iteration()}')\n",
    "    oof[valid_idx] = clf.predict_proba(x_valid)[:, 1]\n",
    "    predictions += clf.predict_proba(test_df)[:, 1] / n_splits\n",
    "    del x_tr\n",
    "    del y_tr\n",
    "    \n",
    "print(metrics.roc_auc_score(train_target.values, oof))"
   ]
  },
  {
   "cell_type": "code",
   "execution_count": 18,
   "metadata": {},
   "outputs": [],
   "source": [
    "# 0.5600358550554558\n",
    "train_df = pd.read_csv('data/train/train_beh.csv')\n",
    "train_id = train_df.id"
   ]
  },
  {
   "cell_type": "code",
   "execution_count": 19,
   "metadata": {},
   "outputs": [],
   "source": [
    "beh_feature_test_pred = pd.DataFrame({'id': test_id, 'beh_pred': predictions})\n",
    "beh_feature_train_pred = pd.DataFrame({'id': train_id, 'beh_pred': oof})"
   ]
  },
  {
   "cell_type": "code",
   "execution_count": 20,
   "metadata": {},
   "outputs": [],
   "source": [
    "beh_feature_test_pred.to_csv('data/beh_feature_test_pred.csv', index = False)\n",
    "beh_feature_train_pred.to_csv('data/beh_feature_train_pred.csv')"
   ]
  },
  {
   "cell_type": "code",
   "execution_count": 21,
   "metadata": {},
   "outputs": [],
   "source": [
    "table = beh_feature_train_pred.groupby('id').max()"
   ]
  },
  {
   "cell_type": "code",
   "execution_count": 22,
   "metadata": {},
   "outputs": [
    {
     "data": {
      "text/plain": [
       "id\n",
       "U0001B8   0.18592\n",
       "U000437   0.19843\n",
       "U0015B2   0.44844\n",
       "U0016FF   0.19797\n",
       "U001945   0.19260\n",
       "            ...  \n",
       "UFFF2E7   0.20977\n",
       "UFFF441   0.25839\n",
       "UFFF7F4   0.23511\n",
       "UFFFC56   0.30409\n",
       "UFFFF38   0.30440\n",
       "Name: beh_pred, Length: 11913, dtype: float64"
      ]
     },
     "execution_count": 22,
     "metadata": {},
     "output_type": "execute_result"
    }
   ],
   "source": [
    "table.beh_pred"
   ]
  },
  {
   "cell_type": "code",
   "execution_count": 23,
   "metadata": {},
   "outputs": [],
   "source": [
    "beh_train_pred = pd.DataFrame({'id': table.index, 'beh_pred': table.beh_pred})"
   ]
  },
  {
   "cell_type": "code",
   "execution_count": 24,
   "metadata": {},
   "outputs": [
    {
     "data": {
      "text/html": [
       "<div>\n",
       "<style scoped>\n",
       "    .dataframe tbody tr th:only-of-type {\n",
       "        vertical-align: middle;\n",
       "    }\n",
       "\n",
       "    .dataframe tbody tr th {\n",
       "        vertical-align: top;\n",
       "    }\n",
       "\n",
       "    .dataframe thead th {\n",
       "        text-align: right;\n",
       "    }\n",
       "</style>\n",
       "<table border=\"1\" class=\"dataframe\">\n",
       "  <thead>\n",
       "    <tr style=\"text-align: right;\">\n",
       "      <th></th>\n",
       "      <th>id</th>\n",
       "      <th>beh_pred</th>\n",
       "    </tr>\n",
       "    <tr>\n",
       "      <th>id</th>\n",
       "      <th></th>\n",
       "      <th></th>\n",
       "    </tr>\n",
       "  </thead>\n",
       "  <tbody>\n",
       "    <tr>\n",
       "      <th>U0001B8</th>\n",
       "      <td>U0001B8</td>\n",
       "      <td>0.18592</td>\n",
       "    </tr>\n",
       "    <tr>\n",
       "      <th>U000437</th>\n",
       "      <td>U000437</td>\n",
       "      <td>0.19843</td>\n",
       "    </tr>\n",
       "    <tr>\n",
       "      <th>U0015B2</th>\n",
       "      <td>U0015B2</td>\n",
       "      <td>0.44844</td>\n",
       "    </tr>\n",
       "    <tr>\n",
       "      <th>U0016FF</th>\n",
       "      <td>U0016FF</td>\n",
       "      <td>0.19797</td>\n",
       "    </tr>\n",
       "    <tr>\n",
       "      <th>U001945</th>\n",
       "      <td>U001945</td>\n",
       "      <td>0.19260</td>\n",
       "    </tr>\n",
       "    <tr>\n",
       "      <th>...</th>\n",
       "      <td>...</td>\n",
       "      <td>...</td>\n",
       "    </tr>\n",
       "    <tr>\n",
       "      <th>UFFF2E7</th>\n",
       "      <td>UFFF2E7</td>\n",
       "      <td>0.20977</td>\n",
       "    </tr>\n",
       "    <tr>\n",
       "      <th>UFFF441</th>\n",
       "      <td>UFFF441</td>\n",
       "      <td>0.25839</td>\n",
       "    </tr>\n",
       "    <tr>\n",
       "      <th>UFFF7F4</th>\n",
       "      <td>UFFF7F4</td>\n",
       "      <td>0.23511</td>\n",
       "    </tr>\n",
       "    <tr>\n",
       "      <th>UFFFC56</th>\n",
       "      <td>UFFFC56</td>\n",
       "      <td>0.30409</td>\n",
       "    </tr>\n",
       "    <tr>\n",
       "      <th>UFFFF38</th>\n",
       "      <td>UFFFF38</td>\n",
       "      <td>0.30440</td>\n",
       "    </tr>\n",
       "  </tbody>\n",
       "</table>\n",
       "<p>11913 rows × 2 columns</p>\n",
       "</div>"
      ],
      "text/plain": [
       "              id  beh_pred\n",
       "id                        \n",
       "U0001B8  U0001B8   0.18592\n",
       "U000437  U000437   0.19843\n",
       "U0015B2  U0015B2   0.44844\n",
       "U0016FF  U0016FF   0.19797\n",
       "U001945  U001945   0.19260\n",
       "...          ...       ...\n",
       "UFFF2E7  UFFF2E7   0.20977\n",
       "UFFF441  UFFF441   0.25839\n",
       "UFFF7F4  UFFF7F4   0.23511\n",
       "UFFFC56  UFFFC56   0.30409\n",
       "UFFFF38  UFFFF38   0.30440\n",
       "\n",
       "[11913 rows x 2 columns]"
      ]
     },
     "execution_count": 24,
     "metadata": {},
     "output_type": "execute_result"
    }
   ],
   "source": [
    "beh_train_pred"
   ]
  },
  {
   "cell_type": "code",
   "execution_count": 25,
   "metadata": {},
   "outputs": [],
   "source": [
    "beh_train_pred.to_csv('data/beh_feature_train_pred.csv', index = False)"
   ]
  },
  {
   "cell_type": "code",
   "execution_count": 26,
   "metadata": {},
   "outputs": [],
   "source": [
    "ttable = beh_feature_test_pred.groupby('id').max()"
   ]
  },
  {
   "cell_type": "code",
   "execution_count": 27,
   "metadata": {},
   "outputs": [
    {
     "data": {
      "text/html": [
       "<div>\n",
       "<style scoped>\n",
       "    .dataframe tbody tr th:only-of-type {\n",
       "        vertical-align: middle;\n",
       "    }\n",
       "\n",
       "    .dataframe tbody tr th {\n",
       "        vertical-align: top;\n",
       "    }\n",
       "\n",
       "    .dataframe thead th {\n",
       "        text-align: right;\n",
       "    }\n",
       "</style>\n",
       "<table border=\"1\" class=\"dataframe\">\n",
       "  <thead>\n",
       "    <tr style=\"text-align: right;\">\n",
       "      <th></th>\n",
       "      <th>beh_pred</th>\n",
       "    </tr>\n",
       "    <tr>\n",
       "      <th>id</th>\n",
       "      <th></th>\n",
       "    </tr>\n",
       "  </thead>\n",
       "  <tbody>\n",
       "    <tr>\n",
       "      <th>U0013E0</th>\n",
       "      <td>0.23085</td>\n",
       "    </tr>\n",
       "    <tr>\n",
       "      <th>U002CBC</th>\n",
       "      <td>0.28586</td>\n",
       "    </tr>\n",
       "    <tr>\n",
       "      <th>U003DF1</th>\n",
       "      <td>0.33399</td>\n",
       "    </tr>\n",
       "    <tr>\n",
       "      <th>U005066</th>\n",
       "      <td>0.16667</td>\n",
       "    </tr>\n",
       "    <tr>\n",
       "      <th>U008890</th>\n",
       "      <td>0.18918</td>\n",
       "    </tr>\n",
       "    <tr>\n",
       "      <th>...</th>\n",
       "      <td>...</td>\n",
       "    </tr>\n",
       "    <tr>\n",
       "      <th>U547028</th>\n",
       "      <td>0.15168</td>\n",
       "    </tr>\n",
       "    <tr>\n",
       "      <th>U547D67</th>\n",
       "      <td>0.23720</td>\n",
       "    </tr>\n",
       "    <tr>\n",
       "      <th>U5480E9</th>\n",
       "      <td>0.20935</td>\n",
       "    </tr>\n",
       "    <tr>\n",
       "      <th>U548AFC</th>\n",
       "      <td>0.17644</td>\n",
       "    </tr>\n",
       "    <tr>\n",
       "      <th>U54C221</th>\n",
       "      <td>0.15542</td>\n",
       "    </tr>\n",
       "  </tbody>\n",
       "</table>\n",
       "<p>1232 rows × 1 columns</p>\n",
       "</div>"
      ],
      "text/plain": [
       "         beh_pred\n",
       "id               \n",
       "U0013E0   0.23085\n",
       "U002CBC   0.28586\n",
       "U003DF1   0.33399\n",
       "U005066   0.16667\n",
       "U008890   0.18918\n",
       "...           ...\n",
       "U547028   0.15168\n",
       "U547D67   0.23720\n",
       "U5480E9   0.20935\n",
       "U548AFC   0.17644\n",
       "U54C221   0.15542\n",
       "\n",
       "[1232 rows x 1 columns]"
      ]
     },
     "execution_count": 27,
     "metadata": {},
     "output_type": "execute_result"
    }
   ],
   "source": [
    "ttable"
   ]
  },
  {
   "cell_type": "code",
   "execution_count": 28,
   "metadata": {},
   "outputs": [],
   "source": [
    "beh_test_pred = pd.DataFrame({'id': ttable.index, 'beh_pred': ttable.beh_pred})"
   ]
  },
  {
   "cell_type": "code",
   "execution_count": 29,
   "metadata": {},
   "outputs": [
    {
     "data": {
      "text/html": [
       "<div>\n",
       "<style scoped>\n",
       "    .dataframe tbody tr th:only-of-type {\n",
       "        vertical-align: middle;\n",
       "    }\n",
       "\n",
       "    .dataframe tbody tr th {\n",
       "        vertical-align: top;\n",
       "    }\n",
       "\n",
       "    .dataframe thead th {\n",
       "        text-align: right;\n",
       "    }\n",
       "</style>\n",
       "<table border=\"1\" class=\"dataframe\">\n",
       "  <thead>\n",
       "    <tr style=\"text-align: right;\">\n",
       "      <th></th>\n",
       "      <th>id</th>\n",
       "      <th>beh_pred</th>\n",
       "    </tr>\n",
       "    <tr>\n",
       "      <th>id</th>\n",
       "      <th></th>\n",
       "      <th></th>\n",
       "    </tr>\n",
       "  </thead>\n",
       "  <tbody>\n",
       "    <tr>\n",
       "      <th>U0013E0</th>\n",
       "      <td>U0013E0</td>\n",
       "      <td>0.23085</td>\n",
       "    </tr>\n",
       "    <tr>\n",
       "      <th>U002CBC</th>\n",
       "      <td>U002CBC</td>\n",
       "      <td>0.28586</td>\n",
       "    </tr>\n",
       "    <tr>\n",
       "      <th>U003DF1</th>\n",
       "      <td>U003DF1</td>\n",
       "      <td>0.33399</td>\n",
       "    </tr>\n",
       "    <tr>\n",
       "      <th>U005066</th>\n",
       "      <td>U005066</td>\n",
       "      <td>0.16667</td>\n",
       "    </tr>\n",
       "    <tr>\n",
       "      <th>U008890</th>\n",
       "      <td>U008890</td>\n",
       "      <td>0.18918</td>\n",
       "    </tr>\n",
       "    <tr>\n",
       "      <th>...</th>\n",
       "      <td>...</td>\n",
       "      <td>...</td>\n",
       "    </tr>\n",
       "    <tr>\n",
       "      <th>U547028</th>\n",
       "      <td>U547028</td>\n",
       "      <td>0.15168</td>\n",
       "    </tr>\n",
       "    <tr>\n",
       "      <th>U547D67</th>\n",
       "      <td>U547D67</td>\n",
       "      <td>0.23720</td>\n",
       "    </tr>\n",
       "    <tr>\n",
       "      <th>U5480E9</th>\n",
       "      <td>U5480E9</td>\n",
       "      <td>0.20935</td>\n",
       "    </tr>\n",
       "    <tr>\n",
       "      <th>U548AFC</th>\n",
       "      <td>U548AFC</td>\n",
       "      <td>0.17644</td>\n",
       "    </tr>\n",
       "    <tr>\n",
       "      <th>U54C221</th>\n",
       "      <td>U54C221</td>\n",
       "      <td>0.15542</td>\n",
       "    </tr>\n",
       "  </tbody>\n",
       "</table>\n",
       "<p>1232 rows × 2 columns</p>\n",
       "</div>"
      ],
      "text/plain": [
       "              id  beh_pred\n",
       "id                        \n",
       "U0013E0  U0013E0   0.23085\n",
       "U002CBC  U002CBC   0.28586\n",
       "U003DF1  U003DF1   0.33399\n",
       "U005066  U005066   0.16667\n",
       "U008890  U008890   0.18918\n",
       "...          ...       ...\n",
       "U547028  U547028   0.15168\n",
       "U547D67  U547D67   0.23720\n",
       "U5480E9  U5480E9   0.20935\n",
       "U548AFC  U548AFC   0.17644\n",
       "U54C221  U54C221   0.15542\n",
       "\n",
       "[1232 rows x 2 columns]"
      ]
     },
     "execution_count": 29,
     "metadata": {},
     "output_type": "execute_result"
    }
   ],
   "source": [
    "beh_test_pred"
   ]
  },
  {
   "cell_type": "code",
   "execution_count": 30,
   "metadata": {},
   "outputs": [],
   "source": [
    "beh_test_pred.to_csv('data/beh_feature_test_pred.csv', index = False)"
   ]
  },
  {
   "cell_type": "code",
   "execution_count": 31,
   "metadata": {},
   "outputs": [],
   "source": [
    "table = beh_feature_train_pred.groupby('id').mean()\n",
    "beh_train_pred = pd.DataFrame({'id': table.index, 'beh_pred_mean': table.beh_pred})\n",
    "ttable = beh_feature_test_pred.groupby('id').mean()\n",
    "beh_test_pred = pd.DataFrame({'id': ttable.index, 'beh_pred_mean': ttable.beh_pred})\n",
    "\n",
    "beh_train_pred.to_csv('data/beh_feature_train_pred_mean.csv', index = False)\n",
    "beh_test_pred.to_csv('data/beh_feature_test_pred_mean.csv', index = False)"
   ]
  },
  {
   "cell_type": "code",
   "execution_count": 32,
   "metadata": {},
   "outputs": [],
   "source": [
    "table = beh_feature_train_pred.groupby('id').sum()\n",
    "beh_train_pred = pd.DataFrame({'id': table.index, 'beh_pred_sum': table.beh_pred})\n",
    "ttable = beh_feature_test_pred.groupby('id').sum()\n",
    "beh_test_pred = pd.DataFrame({'id': ttable.index, 'beh_pred_sum': ttable.beh_pred})\n",
    "\n",
    "beh_train_pred.to_csv('data/beh_feature_train_pred_sum.csv', index = False)\n",
    "beh_test_pred.to_csv('data/beh_feature_test_pred_sum.csv', index = False)"
   ]
  }
 ],
 "metadata": {
  "kernelspec": {
   "display_name": "Python 3",
   "language": "python",
   "name": "python3"
  },
  "language_info": {
   "codemirror_mode": {
    "name": "ipython",
    "version": 3
   },
   "file_extension": ".py",
   "mimetype": "text/x-python",
   "name": "python",
   "nbconvert_exporter": "python",
   "pygments_lexer": "ipython3",
   "version": "3.7.5"
  }
 },
 "nbformat": 4,
 "nbformat_minor": 2
}
