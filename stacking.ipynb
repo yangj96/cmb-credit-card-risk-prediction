{
 "cells": [
  {
   "cell_type": "code",
   "execution_count": 21,
   "metadata": {},
   "outputs": [],
   "source": [
    "#!/usr/bin/env python\n",
    "# coding: utf-8\n",
    "import pandas as pd\n",
    "import numpy as np\n",
    "import os\n",
    "from sklearn.linear_model import LinearRegression\n",
    "from sklearn.model_selection import StratifiedKFold\n",
    "from sklearn import metrics\n",
    "import xgboost as xgb\n",
    "from sklearn.model_selection import StratifiedKFold\n",
    "from sklearn import metrics"
   ]
  },
  {
   "cell_type": "code",
   "execution_count": 22,
   "metadata": {},
   "outputs": [],
   "source": [
    "input_train = [] \n",
    "input_test = []\n",
    "\n",
    "def add_base_train(model_name):\n",
    "    model_oof_train = pd.read_csv(os.path.join('train_result', model_name))\n",
    "    print(model_oof_train.shape)\n",
    "    input_train.append(model_oof_train)\n",
    "\n",
    "    \n",
    "def add_base_test(model_name):\n",
    "    model_oof_test = pd.read_csv(os.path.join('test_result', model_name))\n",
    "    print(model_oof_test.shape)\n",
    "    input_test.append(model_oof_test)"
   ]
  },
  {
   "cell_type": "code",
   "execution_count": 23,
   "metadata": {},
   "outputs": [
    {
     "name": "stdout",
     "output_type": "stream",
     "text": [
      "(39923, 2)\n",
      "(4000, 2)\n",
      "(39923, 2)\n",
      "(4000, 2)\n",
      "(39923, 2)\n",
      "(4000, 2)\n",
      "(39923, 2)\n",
      "(4000, 2)\n",
      "(39923, 2)\n",
      "(4000, 2)\n"
     ]
    }
   ],
   "source": [
    "train_dir = ('./train_result')\n",
    "test_dir = ('./test_result')\n",
    "train_oofs = os.listdir(train_dir)\n",
    "train_oofs = [x for x in train_oofs if not x.startswith(\".\")]\n",
    "\n",
    "test_oofs = os.listdir(test_dir)\n",
    "test_oofs = [x for x in test_oofs if not x.startswith(\".\")]\n",
    "\n",
    "for i in range(len(train_oofs)):\n",
    "    add_base_train(train_oofs[i])\n",
    "    add_base_test(test_oofs[i])"
   ]
  },
  {
   "cell_type": "code",
   "execution_count": 24,
   "metadata": {},
   "outputs": [
    {
     "name": "stdout",
     "output_type": "stream",
     "text": [
      "Folder 0\n",
      "Folder 1\n",
      "Folder 2\n",
      "Folder 3\n",
      "Folder 4\n",
      "Folder 5\n",
      "Folder 6\n",
      "Folder 7\n",
      "Folder 8\n",
      "Folder 9\n",
      "Folder 10\n",
      "Folder 11\n",
      "Folder 12\n",
      "Folder 13\n",
      "Folder 14\n",
      "Folder 15\n",
      "Folder 16\n",
      "Folder 17\n",
      "Folder 18\n",
      "Folder 19\n",
      "0.7722716459842074\n"
     ]
    }
   ],
   "source": [
    "stacked_train = np.concatenate([f.flag.values.reshape(-1, 1) for f in input_train], axis=1)\n",
    "stacked_test = np.concatenate([f.flag.values.reshape(-1, 1) for f in input_test], axis=1)\n",
    "\n",
    "train_df = pd.read_csv('data/train/train_tag.csv')\n",
    "test_df = pd.read_csv('data/test/test_tag_b.csv')\n",
    "\n",
    "train_target = train_df['flag']\n",
    "test_id = test_df['id']\n",
    "\n",
    "# second layer\n",
    "n_splits = 20\n",
    "random_state = 2020\n",
    "splits = list(StratifiedKFold(n_splits=n_splits, shuffle=True, random_state=random_state).split(stacked_train, train_target))\n",
    "\n",
    "oof = np.zeros(len(stacked_train))\n",
    "predictions = np.zeros(len(stacked_test))\n",
    "\n",
    "for i, (train_idx, valid_idx) in enumerate(splits):\n",
    "    print('Folder', i)\n",
    "    x_tr, y_tr = stacked_train[train_idx], train_target.iloc[train_idx]\n",
    "    x_valid, y_valid = stacked_train[valid_idx], train_target.iloc[valid_idx]\n",
    "    \n",
    "    clf = LinearRegression().fit(x_tr, y_tr)\n",
    "\n",
    "    oof[valid_idx] = clf.predict(x_valid)\n",
    "    predictions += clf.predict(stacked_test) / n_splits\n",
    "    \n",
    "    del x_tr\n",
    "    del y_tr\n",
    "\n",
    "print(metrics.roc_auc_score(train_target.values, oof))"
   ]
  },
  {
   "cell_type": "code",
   "execution_count": 25,
   "metadata": {},
   "outputs": [],
   "source": [
    "import os\n",
    "\n",
    "with open(os.path.join('result','stacking_77227.txt'), 'w+') as f:\n",
    "    for tid, pred in zip(test_id, predictions):\n",
    "        f.write('{}\\t{}\\n'.format(tid, pred))"
   ]
  },
  {
   "cell_type": "code",
   "execution_count": null,
   "metadata": {},
   "outputs": [],
   "source": []
  }
 ],
 "metadata": {
  "kernelspec": {
   "display_name": "Python 3",
   "language": "python",
   "name": "python3"
  },
  "language_info": {
   "codemirror_mode": {
    "name": "ipython",
    "version": 3
   },
   "file_extension": ".py",
   "mimetype": "text/x-python",
   "name": "python",
   "nbconvert_exporter": "python",
   "pygments_lexer": "ipython3",
   "version": "3.7.5"
  }
 },
 "nbformat": 4,
 "nbformat_minor": 2
}
